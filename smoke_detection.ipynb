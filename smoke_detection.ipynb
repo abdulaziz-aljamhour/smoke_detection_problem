{
  "nbformat": 4,
  "nbformat_minor": 0,
  "metadata": {
    "colab": {
      "provenance": [],
      "collapsed_sections": [],
      "authorship_tag": "ABX9TyNuc/d1s6Rt96vZa1Rj50oY",
      "include_colab_link": true
    },
    "kernelspec": {
      "name": "python3",
      "display_name": "Python 3"
    },
    "language_info": {
      "name": "python"
    },
    "accelerator": "GPU"
  },
  "cells": [
    {
      "cell_type": "markdown",
      "metadata": {
        "id": "view-in-github",
        "colab_type": "text"
      },
      "source": [
        "<a href=\"https://colab.research.google.com/github/abdulaziz-ibrahim27/smoke_detection_problem/blob/main/smoke_detection.ipynb\" target=\"_parent\"><img src=\"https://colab.research.google.com/assets/colab-badge.svg\" alt=\"Open In Colab\"/></a>"
      ]
    },
    {
      "cell_type": "markdown",
      "source": [
        "# Import essential libraries"
      ],
      "metadata": {
        "id": "Jeg9hX7kCH8e"
      }
    },
    {
      "cell_type": "code",
      "source": [
        "import tensorflow as tf\n",
        "import numpy as np\n",
        "import matplotlib.pyplot as plt\n",
        "import pandas as pd\n",
        "import seaborn as sns; sns.set()"
      ],
      "metadata": {
        "id": "QLhQh7N8CPY3"
      },
      "execution_count": null,
      "outputs": []
    },
    {
      "cell_type": "code",
      "source": [
        "# fetch the data from github\n",
        "!wget https://raw.githubusercontent.com/abdulaziz-ibrahim27/files_host/main/smoke_detection_iot.csv"
      ],
      "metadata": {
        "colab": {
          "base_uri": "https://localhost:8080/"
        },
        "id": "x0UdeTb5Cbxk",
        "outputId": "6a273c40-cfd0-4ae7-dbac-c74ad675aae6"
      },
      "execution_count": null,
      "outputs": [
        {
          "output_type": "stream",
          "name": "stdout",
          "text": [
            "--2022-10-01 18:17:54--  https://raw.githubusercontent.com/abdulaziz-ibrahim27/files_host/main/smoke_detection_iot.csv\n",
            "Resolving raw.githubusercontent.com (raw.githubusercontent.com)... 185.199.108.133, 185.199.109.133, 185.199.110.133, ...\n",
            "Connecting to raw.githubusercontent.com (raw.githubusercontent.com)|185.199.108.133|:443... connected.\n",
            "HTTP request sent, awaiting response... 200 OK\n",
            "Length: 5834376 (5.6M) [text/plain]\n",
            "Saving to: ‘smoke_detection_iot.csv’\n",
            "\n",
            "smoke_detection_iot 100%[===================>]   5.56M  --.-KB/s    in 0.02s   \n",
            "\n",
            "2022-10-01 18:17:54 (320 MB/s) - ‘smoke_detection_iot.csv’ saved [5834376/5834376]\n",
            "\n"
          ]
        }
      ]
    },
    {
      "cell_type": "markdown",
      "source": [
        "# Explanatory Data Analysis"
      ],
      "metadata": {
        "id": "HFDL48QFCqXX"
      }
    },
    {
      "cell_type": "code",
      "source": [
        "df = pd.read_csv('smoke_detection_iot.csv')"
      ],
      "metadata": {
        "id": "4QHGSBhMCkqN"
      },
      "execution_count": null,
      "outputs": []
    },
    {
      "cell_type": "code",
      "source": [
        "df.head()"
      ],
      "metadata": {
        "colab": {
          "base_uri": "https://localhost:8080/",
          "height": 288
        },
        "id": "JtcGT2E9Cohz",
        "outputId": "4ecff6ce-b68d-4661-88a4-bd371efe6d3a"
      },
      "execution_count": null,
      "outputs": [
        {
          "output_type": "execute_result",
          "data": {
            "text/plain": [
              "   Unnamed: 0         UTC  Temperature[C]  Humidity[%]  TVOC[ppb]  eCO2[ppm]  \\\n",
              "0           0  1654733331          20.000        57.36          0        400   \n",
              "1           1  1654733332          20.015        56.67          0        400   \n",
              "2           2  1654733333          20.029        55.96          0        400   \n",
              "3           3  1654733334          20.044        55.28          0        400   \n",
              "4           4  1654733335          20.059        54.69          0        400   \n",
              "\n",
              "   Raw H2  Raw Ethanol  Pressure[hPa]  PM1.0  PM2.5  NC0.5  NC1.0  NC2.5  CNT  \\\n",
              "0   12306        18520        939.735    0.0    0.0    0.0    0.0    0.0    0   \n",
              "1   12345        18651        939.744    0.0    0.0    0.0    0.0    0.0    1   \n",
              "2   12374        18764        939.738    0.0    0.0    0.0    0.0    0.0    2   \n",
              "3   12390        18849        939.736    0.0    0.0    0.0    0.0    0.0    3   \n",
              "4   12403        18921        939.744    0.0    0.0    0.0    0.0    0.0    4   \n",
              "\n",
              "   Fire Alarm  \n",
              "0           0  \n",
              "1           0  \n",
              "2           0  \n",
              "3           0  \n",
              "4           0  "
            ],
            "text/html": [
              "\n",
              "  <div id=\"df-9af472b0-cd58-43f2-842f-118fc8068c4a\">\n",
              "    <div class=\"colab-df-container\">\n",
              "      <div>\n",
              "<style scoped>\n",
              "    .dataframe tbody tr th:only-of-type {\n",
              "        vertical-align: middle;\n",
              "    }\n",
              "\n",
              "    .dataframe tbody tr th {\n",
              "        vertical-align: top;\n",
              "    }\n",
              "\n",
              "    .dataframe thead th {\n",
              "        text-align: right;\n",
              "    }\n",
              "</style>\n",
              "<table border=\"1\" class=\"dataframe\">\n",
              "  <thead>\n",
              "    <tr style=\"text-align: right;\">\n",
              "      <th></th>\n",
              "      <th>Unnamed: 0</th>\n",
              "      <th>UTC</th>\n",
              "      <th>Temperature[C]</th>\n",
              "      <th>Humidity[%]</th>\n",
              "      <th>TVOC[ppb]</th>\n",
              "      <th>eCO2[ppm]</th>\n",
              "      <th>Raw H2</th>\n",
              "      <th>Raw Ethanol</th>\n",
              "      <th>Pressure[hPa]</th>\n",
              "      <th>PM1.0</th>\n",
              "      <th>PM2.5</th>\n",
              "      <th>NC0.5</th>\n",
              "      <th>NC1.0</th>\n",
              "      <th>NC2.5</th>\n",
              "      <th>CNT</th>\n",
              "      <th>Fire Alarm</th>\n",
              "    </tr>\n",
              "  </thead>\n",
              "  <tbody>\n",
              "    <tr>\n",
              "      <th>0</th>\n",
              "      <td>0</td>\n",
              "      <td>1654733331</td>\n",
              "      <td>20.000</td>\n",
              "      <td>57.36</td>\n",
              "      <td>0</td>\n",
              "      <td>400</td>\n",
              "      <td>12306</td>\n",
              "      <td>18520</td>\n",
              "      <td>939.735</td>\n",
              "      <td>0.0</td>\n",
              "      <td>0.0</td>\n",
              "      <td>0.0</td>\n",
              "      <td>0.0</td>\n",
              "      <td>0.0</td>\n",
              "      <td>0</td>\n",
              "      <td>0</td>\n",
              "    </tr>\n",
              "    <tr>\n",
              "      <th>1</th>\n",
              "      <td>1</td>\n",
              "      <td>1654733332</td>\n",
              "      <td>20.015</td>\n",
              "      <td>56.67</td>\n",
              "      <td>0</td>\n",
              "      <td>400</td>\n",
              "      <td>12345</td>\n",
              "      <td>18651</td>\n",
              "      <td>939.744</td>\n",
              "      <td>0.0</td>\n",
              "      <td>0.0</td>\n",
              "      <td>0.0</td>\n",
              "      <td>0.0</td>\n",
              "      <td>0.0</td>\n",
              "      <td>1</td>\n",
              "      <td>0</td>\n",
              "    </tr>\n",
              "    <tr>\n",
              "      <th>2</th>\n",
              "      <td>2</td>\n",
              "      <td>1654733333</td>\n",
              "      <td>20.029</td>\n",
              "      <td>55.96</td>\n",
              "      <td>0</td>\n",
              "      <td>400</td>\n",
              "      <td>12374</td>\n",
              "      <td>18764</td>\n",
              "      <td>939.738</td>\n",
              "      <td>0.0</td>\n",
              "      <td>0.0</td>\n",
              "      <td>0.0</td>\n",
              "      <td>0.0</td>\n",
              "      <td>0.0</td>\n",
              "      <td>2</td>\n",
              "      <td>0</td>\n",
              "    </tr>\n",
              "    <tr>\n",
              "      <th>3</th>\n",
              "      <td>3</td>\n",
              "      <td>1654733334</td>\n",
              "      <td>20.044</td>\n",
              "      <td>55.28</td>\n",
              "      <td>0</td>\n",
              "      <td>400</td>\n",
              "      <td>12390</td>\n",
              "      <td>18849</td>\n",
              "      <td>939.736</td>\n",
              "      <td>0.0</td>\n",
              "      <td>0.0</td>\n",
              "      <td>0.0</td>\n",
              "      <td>0.0</td>\n",
              "      <td>0.0</td>\n",
              "      <td>3</td>\n",
              "      <td>0</td>\n",
              "    </tr>\n",
              "    <tr>\n",
              "      <th>4</th>\n",
              "      <td>4</td>\n",
              "      <td>1654733335</td>\n",
              "      <td>20.059</td>\n",
              "      <td>54.69</td>\n",
              "      <td>0</td>\n",
              "      <td>400</td>\n",
              "      <td>12403</td>\n",
              "      <td>18921</td>\n",
              "      <td>939.744</td>\n",
              "      <td>0.0</td>\n",
              "      <td>0.0</td>\n",
              "      <td>0.0</td>\n",
              "      <td>0.0</td>\n",
              "      <td>0.0</td>\n",
              "      <td>4</td>\n",
              "      <td>0</td>\n",
              "    </tr>\n",
              "  </tbody>\n",
              "</table>\n",
              "</div>\n",
              "      <button class=\"colab-df-convert\" onclick=\"convertToInteractive('df-9af472b0-cd58-43f2-842f-118fc8068c4a')\"\n",
              "              title=\"Convert this dataframe to an interactive table.\"\n",
              "              style=\"display:none;\">\n",
              "        \n",
              "  <svg xmlns=\"http://www.w3.org/2000/svg\" height=\"24px\"viewBox=\"0 0 24 24\"\n",
              "       width=\"24px\">\n",
              "    <path d=\"M0 0h24v24H0V0z\" fill=\"none\"/>\n",
              "    <path d=\"M18.56 5.44l.94 2.06.94-2.06 2.06-.94-2.06-.94-.94-2.06-.94 2.06-2.06.94zm-11 1L8.5 8.5l.94-2.06 2.06-.94-2.06-.94L8.5 2.5l-.94 2.06-2.06.94zm10 10l.94 2.06.94-2.06 2.06-.94-2.06-.94-.94-2.06-.94 2.06-2.06.94z\"/><path d=\"M17.41 7.96l-1.37-1.37c-.4-.4-.92-.59-1.43-.59-.52 0-1.04.2-1.43.59L10.3 9.45l-7.72 7.72c-.78.78-.78 2.05 0 2.83L4 21.41c.39.39.9.59 1.41.59.51 0 1.02-.2 1.41-.59l7.78-7.78 2.81-2.81c.8-.78.8-2.07 0-2.86zM5.41 20L4 18.59l7.72-7.72 1.47 1.35L5.41 20z\"/>\n",
              "  </svg>\n",
              "      </button>\n",
              "      \n",
              "  <style>\n",
              "    .colab-df-container {\n",
              "      display:flex;\n",
              "      flex-wrap:wrap;\n",
              "      gap: 12px;\n",
              "    }\n",
              "\n",
              "    .colab-df-convert {\n",
              "      background-color: #E8F0FE;\n",
              "      border: none;\n",
              "      border-radius: 50%;\n",
              "      cursor: pointer;\n",
              "      display: none;\n",
              "      fill: #1967D2;\n",
              "      height: 32px;\n",
              "      padding: 0 0 0 0;\n",
              "      width: 32px;\n",
              "    }\n",
              "\n",
              "    .colab-df-convert:hover {\n",
              "      background-color: #E2EBFA;\n",
              "      box-shadow: 0px 1px 2px rgba(60, 64, 67, 0.3), 0px 1px 3px 1px rgba(60, 64, 67, 0.15);\n",
              "      fill: #174EA6;\n",
              "    }\n",
              "\n",
              "    [theme=dark] .colab-df-convert {\n",
              "      background-color: #3B4455;\n",
              "      fill: #D2E3FC;\n",
              "    }\n",
              "\n",
              "    [theme=dark] .colab-df-convert:hover {\n",
              "      background-color: #434B5C;\n",
              "      box-shadow: 0px 1px 3px 1px rgba(0, 0, 0, 0.15);\n",
              "      filter: drop-shadow(0px 1px 2px rgba(0, 0, 0, 0.3));\n",
              "      fill: #FFFFFF;\n",
              "    }\n",
              "  </style>\n",
              "\n",
              "      <script>\n",
              "        const buttonEl =\n",
              "          document.querySelector('#df-9af472b0-cd58-43f2-842f-118fc8068c4a button.colab-df-convert');\n",
              "        buttonEl.style.display =\n",
              "          google.colab.kernel.accessAllowed ? 'block' : 'none';\n",
              "\n",
              "        async function convertToInteractive(key) {\n",
              "          const element = document.querySelector('#df-9af472b0-cd58-43f2-842f-118fc8068c4a');\n",
              "          const dataTable =\n",
              "            await google.colab.kernel.invokeFunction('convertToInteractive',\n",
              "                                                     [key], {});\n",
              "          if (!dataTable) return;\n",
              "\n",
              "          const docLinkHtml = 'Like what you see? Visit the ' +\n",
              "            '<a target=\"_blank\" href=https://colab.research.google.com/notebooks/data_table.ipynb>data table notebook</a>'\n",
              "            + ' to learn more about interactive tables.';\n",
              "          element.innerHTML = '';\n",
              "          dataTable['output_type'] = 'display_data';\n",
              "          await google.colab.output.renderOutput(dataTable, element);\n",
              "          const docLink = document.createElement('div');\n",
              "          docLink.innerHTML = docLinkHtml;\n",
              "          element.appendChild(docLink);\n",
              "        }\n",
              "      </script>\n",
              "    </div>\n",
              "  </div>\n",
              "  "
            ]
          },
          "metadata": {},
          "execution_count": 4
        }
      ]
    },
    {
      "cell_type": "code",
      "source": [
        "df.columns"
      ],
      "metadata": {
        "colab": {
          "base_uri": "https://localhost:8080/"
        },
        "id": "h2i68vpeCptZ",
        "outputId": "bc9dd520-13e7-404c-9bd8-230783e4e052"
      },
      "execution_count": null,
      "outputs": [
        {
          "output_type": "execute_result",
          "data": {
            "text/plain": [
              "Index(['Unnamed: 0', 'UTC', 'Temperature[C]', 'Humidity[%]', 'TVOC[ppb]',\n",
              "       'eCO2[ppm]', 'Raw H2', 'Raw Ethanol', 'Pressure[hPa]', 'PM1.0', 'PM2.5',\n",
              "       'NC0.5', 'NC1.0', 'NC2.5', 'CNT', 'Fire Alarm'],\n",
              "      dtype='object')"
            ]
          },
          "metadata": {},
          "execution_count": 5
        }
      ]
    },
    {
      "cell_type": "code",
      "source": [
        "df.columns = df.columns.str.lower()\n",
        "df.columns"
      ],
      "metadata": {
        "colab": {
          "base_uri": "https://localhost:8080/"
        },
        "id": "M0pamtOME8aP",
        "outputId": "ab2d1134-d6c2-43f7-d90e-dc71782ad041"
      },
      "execution_count": null,
      "outputs": [
        {
          "output_type": "execute_result",
          "data": {
            "text/plain": [
              "Index(['unnamed: 0', 'utc', 'temperature[c]', 'humidity[%]', 'tvoc[ppb]',\n",
              "       'eco2[ppm]', 'raw h2', 'raw ethanol', 'pressure[hpa]', 'pm1.0', 'pm2.5',\n",
              "       'nc0.5', 'nc1.0', 'nc2.5', 'cnt', 'fire alarm'],\n",
              "      dtype='object')"
            ]
          },
          "metadata": {},
          "execution_count": 6
        }
      ]
    },
    {
      "cell_type": "code",
      "source": [
        "df.shape"
      ],
      "metadata": {
        "colab": {
          "base_uri": "https://localhost:8080/"
        },
        "id": "-MZOCAMRC_Uq",
        "outputId": "123d3d33-eff6-4ba1-e11f-d846839ccef0"
      },
      "execution_count": null,
      "outputs": [
        {
          "output_type": "execute_result",
          "data": {
            "text/plain": [
              "(62630, 16)"
            ]
          },
          "metadata": {},
          "execution_count": 7
        }
      ]
    },
    {
      "cell_type": "code",
      "source": [
        "df.info()"
      ],
      "metadata": {
        "colab": {
          "base_uri": "https://localhost:8080/"
        },
        "id": "cEtbMkVhDDyx",
        "outputId": "2293606a-1cc2-4e5c-c8f1-4642fbdd4f2a"
      },
      "execution_count": null,
      "outputs": [
        {
          "output_type": "stream",
          "name": "stdout",
          "text": [
            "<class 'pandas.core.frame.DataFrame'>\n",
            "RangeIndex: 62630 entries, 0 to 62629\n",
            "Data columns (total 16 columns):\n",
            " #   Column          Non-Null Count  Dtype  \n",
            "---  ------          --------------  -----  \n",
            " 0   unnamed: 0      62630 non-null  int64  \n",
            " 1   utc             62630 non-null  int64  \n",
            " 2   temperature[c]  62630 non-null  float64\n",
            " 3   humidity[%]     62630 non-null  float64\n",
            " 4   tvoc[ppb]       62630 non-null  int64  \n",
            " 5   eco2[ppm]       62630 non-null  int64  \n",
            " 6   raw h2          62630 non-null  int64  \n",
            " 7   raw ethanol     62630 non-null  int64  \n",
            " 8   pressure[hpa]   62630 non-null  float64\n",
            " 9   pm1.0           62630 non-null  float64\n",
            " 10  pm2.5           62630 non-null  float64\n",
            " 11  nc0.5           62630 non-null  float64\n",
            " 12  nc1.0           62630 non-null  float64\n",
            " 13  nc2.5           62630 non-null  float64\n",
            " 14  cnt             62630 non-null  int64  \n",
            " 15  fire alarm      62630 non-null  int64  \n",
            "dtypes: float64(8), int64(8)\n",
            "memory usage: 7.6 MB\n"
          ]
        }
      ]
    },
    {
      "cell_type": "code",
      "source": [
        "df.describe()"
      ],
      "metadata": {
        "colab": {
          "base_uri": "https://localhost:8080/",
          "height": 364
        },
        "id": "ODykjmihDHoK",
        "outputId": "cce9d861-6673-495a-8a89-ad493b81a498"
      },
      "execution_count": null,
      "outputs": [
        {
          "output_type": "execute_result",
          "data": {
            "text/plain": [
              "         unnamed: 0           utc  temperature[c]   humidity[%]     tvoc[ppb]  \\\n",
              "count  62630.000000  6.263000e+04    62630.000000  62630.000000  62630.000000   \n",
              "mean   31314.500000  1.654792e+09       15.970424     48.539499   1942.057528   \n",
              "std    18079.868017  1.100025e+05       14.359576      8.865367   7811.589055   \n",
              "min        0.000000  1.654712e+09      -22.010000     10.740000      0.000000   \n",
              "25%    15657.250000  1.654743e+09       10.994250     47.530000    130.000000   \n",
              "50%    31314.500000  1.654762e+09       20.130000     50.150000    981.000000   \n",
              "75%    46971.750000  1.654778e+09       25.409500     53.240000   1189.000000   \n",
              "max    62629.000000  1.655130e+09       59.930000     75.200000  60000.000000   \n",
              "\n",
              "          eco2[ppm]        raw h2   raw ethanol  pressure[hpa]         pm1.0  \\\n",
              "count  62630.000000  62630.000000  62630.000000   62630.000000  62630.000000   \n",
              "mean     670.021044  12942.453936  19754.257912     938.627649    100.594309   \n",
              "std     1905.885439    272.464305    609.513156       1.331344    922.524245   \n",
              "min      400.000000  10668.000000  15317.000000     930.852000      0.000000   \n",
              "25%      400.000000  12830.000000  19435.000000     938.700000      1.280000   \n",
              "50%      400.000000  12924.000000  19501.000000     938.816000      1.810000   \n",
              "75%      438.000000  13109.000000  20078.000000     939.418000      2.090000   \n",
              "max    60000.000000  13803.000000  21410.000000     939.861000  14333.690000   \n",
              "\n",
              "              pm2.5         nc0.5         nc1.0         nc2.5           cnt  \\\n",
              "count  62630.000000  62630.000000  62630.000000  62630.000000  62630.000000   \n",
              "mean     184.467770    491.463608    203.586487     80.049042  10511.386157   \n",
              "std     1976.305615   4265.661251   2214.738556   1083.383189   7597.870997   \n",
              "min        0.000000      0.000000      0.000000      0.000000      0.000000   \n",
              "25%        1.340000      8.820000      1.384000      0.033000   3625.250000   \n",
              "50%        1.880000     12.450000      1.943000      0.044000   9336.000000   \n",
              "75%        2.180000     14.420000      2.249000      0.051000  17164.750000   \n",
              "max    45432.260000  61482.030000  51914.680000  30026.438000  24993.000000   \n",
              "\n",
              "         fire alarm  \n",
              "count  62630.000000  \n",
              "mean       0.714626  \n",
              "std        0.451596  \n",
              "min        0.000000  \n",
              "25%        0.000000  \n",
              "50%        1.000000  \n",
              "75%        1.000000  \n",
              "max        1.000000  "
            ],
            "text/html": [
              "\n",
              "  <div id=\"df-7c1ddde1-ab78-4fcf-9302-8f4fca405e5e\">\n",
              "    <div class=\"colab-df-container\">\n",
              "      <div>\n",
              "<style scoped>\n",
              "    .dataframe tbody tr th:only-of-type {\n",
              "        vertical-align: middle;\n",
              "    }\n",
              "\n",
              "    .dataframe tbody tr th {\n",
              "        vertical-align: top;\n",
              "    }\n",
              "\n",
              "    .dataframe thead th {\n",
              "        text-align: right;\n",
              "    }\n",
              "</style>\n",
              "<table border=\"1\" class=\"dataframe\">\n",
              "  <thead>\n",
              "    <tr style=\"text-align: right;\">\n",
              "      <th></th>\n",
              "      <th>unnamed: 0</th>\n",
              "      <th>utc</th>\n",
              "      <th>temperature[c]</th>\n",
              "      <th>humidity[%]</th>\n",
              "      <th>tvoc[ppb]</th>\n",
              "      <th>eco2[ppm]</th>\n",
              "      <th>raw h2</th>\n",
              "      <th>raw ethanol</th>\n",
              "      <th>pressure[hpa]</th>\n",
              "      <th>pm1.0</th>\n",
              "      <th>pm2.5</th>\n",
              "      <th>nc0.5</th>\n",
              "      <th>nc1.0</th>\n",
              "      <th>nc2.5</th>\n",
              "      <th>cnt</th>\n",
              "      <th>fire alarm</th>\n",
              "    </tr>\n",
              "  </thead>\n",
              "  <tbody>\n",
              "    <tr>\n",
              "      <th>count</th>\n",
              "      <td>62630.000000</td>\n",
              "      <td>6.263000e+04</td>\n",
              "      <td>62630.000000</td>\n",
              "      <td>62630.000000</td>\n",
              "      <td>62630.000000</td>\n",
              "      <td>62630.000000</td>\n",
              "      <td>62630.000000</td>\n",
              "      <td>62630.000000</td>\n",
              "      <td>62630.000000</td>\n",
              "      <td>62630.000000</td>\n",
              "      <td>62630.000000</td>\n",
              "      <td>62630.000000</td>\n",
              "      <td>62630.000000</td>\n",
              "      <td>62630.000000</td>\n",
              "      <td>62630.000000</td>\n",
              "      <td>62630.000000</td>\n",
              "    </tr>\n",
              "    <tr>\n",
              "      <th>mean</th>\n",
              "      <td>31314.500000</td>\n",
              "      <td>1.654792e+09</td>\n",
              "      <td>15.970424</td>\n",
              "      <td>48.539499</td>\n",
              "      <td>1942.057528</td>\n",
              "      <td>670.021044</td>\n",
              "      <td>12942.453936</td>\n",
              "      <td>19754.257912</td>\n",
              "      <td>938.627649</td>\n",
              "      <td>100.594309</td>\n",
              "      <td>184.467770</td>\n",
              "      <td>491.463608</td>\n",
              "      <td>203.586487</td>\n",
              "      <td>80.049042</td>\n",
              "      <td>10511.386157</td>\n",
              "      <td>0.714626</td>\n",
              "    </tr>\n",
              "    <tr>\n",
              "      <th>std</th>\n",
              "      <td>18079.868017</td>\n",
              "      <td>1.100025e+05</td>\n",
              "      <td>14.359576</td>\n",
              "      <td>8.865367</td>\n",
              "      <td>7811.589055</td>\n",
              "      <td>1905.885439</td>\n",
              "      <td>272.464305</td>\n",
              "      <td>609.513156</td>\n",
              "      <td>1.331344</td>\n",
              "      <td>922.524245</td>\n",
              "      <td>1976.305615</td>\n",
              "      <td>4265.661251</td>\n",
              "      <td>2214.738556</td>\n",
              "      <td>1083.383189</td>\n",
              "      <td>7597.870997</td>\n",
              "      <td>0.451596</td>\n",
              "    </tr>\n",
              "    <tr>\n",
              "      <th>min</th>\n",
              "      <td>0.000000</td>\n",
              "      <td>1.654712e+09</td>\n",
              "      <td>-22.010000</td>\n",
              "      <td>10.740000</td>\n",
              "      <td>0.000000</td>\n",
              "      <td>400.000000</td>\n",
              "      <td>10668.000000</td>\n",
              "      <td>15317.000000</td>\n",
              "      <td>930.852000</td>\n",
              "      <td>0.000000</td>\n",
              "      <td>0.000000</td>\n",
              "      <td>0.000000</td>\n",
              "      <td>0.000000</td>\n",
              "      <td>0.000000</td>\n",
              "      <td>0.000000</td>\n",
              "      <td>0.000000</td>\n",
              "    </tr>\n",
              "    <tr>\n",
              "      <th>25%</th>\n",
              "      <td>15657.250000</td>\n",
              "      <td>1.654743e+09</td>\n",
              "      <td>10.994250</td>\n",
              "      <td>47.530000</td>\n",
              "      <td>130.000000</td>\n",
              "      <td>400.000000</td>\n",
              "      <td>12830.000000</td>\n",
              "      <td>19435.000000</td>\n",
              "      <td>938.700000</td>\n",
              "      <td>1.280000</td>\n",
              "      <td>1.340000</td>\n",
              "      <td>8.820000</td>\n",
              "      <td>1.384000</td>\n",
              "      <td>0.033000</td>\n",
              "      <td>3625.250000</td>\n",
              "      <td>0.000000</td>\n",
              "    </tr>\n",
              "    <tr>\n",
              "      <th>50%</th>\n",
              "      <td>31314.500000</td>\n",
              "      <td>1.654762e+09</td>\n",
              "      <td>20.130000</td>\n",
              "      <td>50.150000</td>\n",
              "      <td>981.000000</td>\n",
              "      <td>400.000000</td>\n",
              "      <td>12924.000000</td>\n",
              "      <td>19501.000000</td>\n",
              "      <td>938.816000</td>\n",
              "      <td>1.810000</td>\n",
              "      <td>1.880000</td>\n",
              "      <td>12.450000</td>\n",
              "      <td>1.943000</td>\n",
              "      <td>0.044000</td>\n",
              "      <td>9336.000000</td>\n",
              "      <td>1.000000</td>\n",
              "    </tr>\n",
              "    <tr>\n",
              "      <th>75%</th>\n",
              "      <td>46971.750000</td>\n",
              "      <td>1.654778e+09</td>\n",
              "      <td>25.409500</td>\n",
              "      <td>53.240000</td>\n",
              "      <td>1189.000000</td>\n",
              "      <td>438.000000</td>\n",
              "      <td>13109.000000</td>\n",
              "      <td>20078.000000</td>\n",
              "      <td>939.418000</td>\n",
              "      <td>2.090000</td>\n",
              "      <td>2.180000</td>\n",
              "      <td>14.420000</td>\n",
              "      <td>2.249000</td>\n",
              "      <td>0.051000</td>\n",
              "      <td>17164.750000</td>\n",
              "      <td>1.000000</td>\n",
              "    </tr>\n",
              "    <tr>\n",
              "      <th>max</th>\n",
              "      <td>62629.000000</td>\n",
              "      <td>1.655130e+09</td>\n",
              "      <td>59.930000</td>\n",
              "      <td>75.200000</td>\n",
              "      <td>60000.000000</td>\n",
              "      <td>60000.000000</td>\n",
              "      <td>13803.000000</td>\n",
              "      <td>21410.000000</td>\n",
              "      <td>939.861000</td>\n",
              "      <td>14333.690000</td>\n",
              "      <td>45432.260000</td>\n",
              "      <td>61482.030000</td>\n",
              "      <td>51914.680000</td>\n",
              "      <td>30026.438000</td>\n",
              "      <td>24993.000000</td>\n",
              "      <td>1.000000</td>\n",
              "    </tr>\n",
              "  </tbody>\n",
              "</table>\n",
              "</div>\n",
              "      <button class=\"colab-df-convert\" onclick=\"convertToInteractive('df-7c1ddde1-ab78-4fcf-9302-8f4fca405e5e')\"\n",
              "              title=\"Convert this dataframe to an interactive table.\"\n",
              "              style=\"display:none;\">\n",
              "        \n",
              "  <svg xmlns=\"http://www.w3.org/2000/svg\" height=\"24px\"viewBox=\"0 0 24 24\"\n",
              "       width=\"24px\">\n",
              "    <path d=\"M0 0h24v24H0V0z\" fill=\"none\"/>\n",
              "    <path d=\"M18.56 5.44l.94 2.06.94-2.06 2.06-.94-2.06-.94-.94-2.06-.94 2.06-2.06.94zm-11 1L8.5 8.5l.94-2.06 2.06-.94-2.06-.94L8.5 2.5l-.94 2.06-2.06.94zm10 10l.94 2.06.94-2.06 2.06-.94-2.06-.94-.94-2.06-.94 2.06-2.06.94z\"/><path d=\"M17.41 7.96l-1.37-1.37c-.4-.4-.92-.59-1.43-.59-.52 0-1.04.2-1.43.59L10.3 9.45l-7.72 7.72c-.78.78-.78 2.05 0 2.83L4 21.41c.39.39.9.59 1.41.59.51 0 1.02-.2 1.41-.59l7.78-7.78 2.81-2.81c.8-.78.8-2.07 0-2.86zM5.41 20L4 18.59l7.72-7.72 1.47 1.35L5.41 20z\"/>\n",
              "  </svg>\n",
              "      </button>\n",
              "      \n",
              "  <style>\n",
              "    .colab-df-container {\n",
              "      display:flex;\n",
              "      flex-wrap:wrap;\n",
              "      gap: 12px;\n",
              "    }\n",
              "\n",
              "    .colab-df-convert {\n",
              "      background-color: #E8F0FE;\n",
              "      border: none;\n",
              "      border-radius: 50%;\n",
              "      cursor: pointer;\n",
              "      display: none;\n",
              "      fill: #1967D2;\n",
              "      height: 32px;\n",
              "      padding: 0 0 0 0;\n",
              "      width: 32px;\n",
              "    }\n",
              "\n",
              "    .colab-df-convert:hover {\n",
              "      background-color: #E2EBFA;\n",
              "      box-shadow: 0px 1px 2px rgba(60, 64, 67, 0.3), 0px 1px 3px 1px rgba(60, 64, 67, 0.15);\n",
              "      fill: #174EA6;\n",
              "    }\n",
              "\n",
              "    [theme=dark] .colab-df-convert {\n",
              "      background-color: #3B4455;\n",
              "      fill: #D2E3FC;\n",
              "    }\n",
              "\n",
              "    [theme=dark] .colab-df-convert:hover {\n",
              "      background-color: #434B5C;\n",
              "      box-shadow: 0px 1px 3px 1px rgba(0, 0, 0, 0.15);\n",
              "      filter: drop-shadow(0px 1px 2px rgba(0, 0, 0, 0.3));\n",
              "      fill: #FFFFFF;\n",
              "    }\n",
              "  </style>\n",
              "\n",
              "      <script>\n",
              "        const buttonEl =\n",
              "          document.querySelector('#df-7c1ddde1-ab78-4fcf-9302-8f4fca405e5e button.colab-df-convert');\n",
              "        buttonEl.style.display =\n",
              "          google.colab.kernel.accessAllowed ? 'block' : 'none';\n",
              "\n",
              "        async function convertToInteractive(key) {\n",
              "          const element = document.querySelector('#df-7c1ddde1-ab78-4fcf-9302-8f4fca405e5e');\n",
              "          const dataTable =\n",
              "            await google.colab.kernel.invokeFunction('convertToInteractive',\n",
              "                                                     [key], {});\n",
              "          if (!dataTable) return;\n",
              "\n",
              "          const docLinkHtml = 'Like what you see? Visit the ' +\n",
              "            '<a target=\"_blank\" href=https://colab.research.google.com/notebooks/data_table.ipynb>data table notebook</a>'\n",
              "            + ' to learn more about interactive tables.';\n",
              "          element.innerHTML = '';\n",
              "          dataTable['output_type'] = 'display_data';\n",
              "          await google.colab.output.renderOutput(dataTable, element);\n",
              "          const docLink = document.createElement('div');\n",
              "          docLink.innerHTML = docLinkHtml;\n",
              "          element.appendChild(docLink);\n",
              "        }\n",
              "      </script>\n",
              "    </div>\n",
              "  </div>\n",
              "  "
            ]
          },
          "metadata": {},
          "execution_count": 9
        }
      ]
    },
    {
      "cell_type": "code",
      "source": [
        "# check the correlation between the variables\n",
        "df.corr()"
      ],
      "metadata": {
        "colab": {
          "base_uri": "https://localhost:8080/",
          "height": 632
        },
        "id": "TzIfzYwJDtNJ",
        "outputId": "d021b0a4-2bbd-4c26-e3a1-2a82b3fdb7c8"
      },
      "execution_count": null,
      "outputs": [
        {
          "output_type": "execute_result",
          "data": {
            "text/plain": [
              "                unnamed: 0       utc  temperature[c]  humidity[%]  tvoc[ppb]  \\\n",
              "unnamed: 0        1.000000  0.551987        0.425636    -0.498121   0.248813   \n",
              "utc               0.551987  1.000000       -0.164174    -0.391907   0.180731   \n",
              "temperature[c]    0.425636 -0.164174        1.000000    -0.243986   0.082442   \n",
              "humidity[%]      -0.498121 -0.391907       -0.243986     1.000000  -0.488878   \n",
              "tvoc[ppb]         0.248813  0.180731        0.082442    -0.488878   1.000000   \n",
              "eco2[ppm]         0.160665  0.132100        0.079265    -0.369095   0.606118   \n",
              "raw h2           -0.232854 -0.151088       -0.135540     0.247199  -0.653053   \n",
              "raw ethanol       0.083094  0.166555       -0.037343     0.068782  -0.673715   \n",
              "pressure[hpa]    -0.580829 -0.434375       -0.251203     0.694614  -0.220004   \n",
              "pm1.0             0.151785  0.123168        0.037330    -0.236538   0.597366   \n",
              "pm2.5             0.128487  0.105304        0.032084    -0.178882   0.477424   \n",
              "nc0.5             0.162053  0.130288        0.039291    -0.277389   0.670657   \n",
              "nc1.0             0.126418  0.103695        0.031608    -0.174224   0.467386   \n",
              "nc2.5             0.100300  0.083234        0.025526    -0.118502   0.344721   \n",
              "cnt              -0.053262 -0.251595       -0.089850     0.251965  -0.057703   \n",
              "fire alarm       -0.361351 -0.389404       -0.163902     0.399846  -0.214743   \n",
              "\n",
              "                eco2[ppm]    raw h2  raw ethanol  pressure[hpa]     pm1.0  \\\n",
              "unnamed: 0       0.160665 -0.232854     0.083094      -0.580829  0.151785   \n",
              "utc              0.132100 -0.151088     0.166555      -0.434375  0.123168   \n",
              "temperature[c]   0.079265 -0.135540    -0.037343      -0.251203  0.037330   \n",
              "humidity[%]     -0.369095  0.247199     0.068782       0.694614 -0.236538   \n",
              "tvoc[ppb]        0.606118 -0.653053    -0.673715      -0.220004  0.597366   \n",
              "eco2[ppm]        1.000000 -0.682785    -0.506695      -0.326043  0.665482   \n",
              "raw h2          -0.682785  1.000000     0.631495       0.303090 -0.530714   \n",
              "raw ethanol     -0.506695  0.631495     1.000000      -0.075926 -0.480698   \n",
              "pressure[hpa]   -0.326043  0.303090    -0.075926       1.000000 -0.258938   \n",
              "pm1.0            0.665482 -0.530714    -0.480698      -0.258938  1.000000   \n",
              "pm2.5            0.572691 -0.431079    -0.393192      -0.243071  0.956118   \n",
              "nc0.5            0.699604 -0.587769    -0.529186      -0.248657  0.940045   \n",
              "nc1.0            0.564252 -0.422626    -0.385720      -0.241148  0.949860   \n",
              "nc2.5            0.456323 -0.318518    -0.293351      -0.213390  0.854901   \n",
              "cnt             -0.106681 -0.031036    -0.511995       0.186290 -0.093700   \n",
              "fire alarm      -0.097006  0.107007    -0.340652       0.249797 -0.110552   \n",
              "\n",
              "                   pm2.5     nc0.5     nc1.0     nc2.5       cnt  fire alarm  \n",
              "unnamed: 0      0.128487  0.162053  0.126418  0.100300 -0.053262   -0.361351  \n",
              "utc             0.105304  0.130288  0.103695  0.083234 -0.251595   -0.389404  \n",
              "temperature[c]  0.032084  0.039291  0.031608  0.025526 -0.089850   -0.163902  \n",
              "humidity[%]    -0.178882 -0.277389 -0.174224 -0.118502  0.251965    0.399846  \n",
              "tvoc[ppb]       0.477424  0.670657  0.467386  0.344721 -0.057703   -0.214743  \n",
              "eco2[ppm]       0.572691  0.699604  0.564252  0.456323 -0.106681   -0.097006  \n",
              "raw h2         -0.431079 -0.587769 -0.422626 -0.318518 -0.031036    0.107007  \n",
              "raw ethanol    -0.393192 -0.529186 -0.385720 -0.293351 -0.511995   -0.340652  \n",
              "pressure[hpa]  -0.243071 -0.248657 -0.241148 -0.213390  0.186290    0.249797  \n",
              "pm1.0           0.956118  0.940045  0.949860  0.854901 -0.093700   -0.110552  \n",
              "pm2.5           1.000000  0.798873  0.999787  0.969382 -0.083869   -0.084916  \n",
              "nc0.5           0.798873  1.000000  0.786274  0.626711 -0.094741   -0.128118  \n",
              "nc1.0           0.999787  0.786274  1.000000  0.974249 -0.082898   -0.082828  \n",
              "nc2.5           0.969382  0.626711  0.974249  1.000000 -0.069977   -0.057707  \n",
              "cnt            -0.083869 -0.094741 -0.082898 -0.069977  1.000000    0.673762  \n",
              "fire alarm     -0.084916 -0.128118 -0.082828 -0.057707  0.673762    1.000000  "
            ],
            "text/html": [
              "\n",
              "  <div id=\"df-b5e70617-15c4-482e-96fb-4f983f42c31f\">\n",
              "    <div class=\"colab-df-container\">\n",
              "      <div>\n",
              "<style scoped>\n",
              "    .dataframe tbody tr th:only-of-type {\n",
              "        vertical-align: middle;\n",
              "    }\n",
              "\n",
              "    .dataframe tbody tr th {\n",
              "        vertical-align: top;\n",
              "    }\n",
              "\n",
              "    .dataframe thead th {\n",
              "        text-align: right;\n",
              "    }\n",
              "</style>\n",
              "<table border=\"1\" class=\"dataframe\">\n",
              "  <thead>\n",
              "    <tr style=\"text-align: right;\">\n",
              "      <th></th>\n",
              "      <th>unnamed: 0</th>\n",
              "      <th>utc</th>\n",
              "      <th>temperature[c]</th>\n",
              "      <th>humidity[%]</th>\n",
              "      <th>tvoc[ppb]</th>\n",
              "      <th>eco2[ppm]</th>\n",
              "      <th>raw h2</th>\n",
              "      <th>raw ethanol</th>\n",
              "      <th>pressure[hpa]</th>\n",
              "      <th>pm1.0</th>\n",
              "      <th>pm2.5</th>\n",
              "      <th>nc0.5</th>\n",
              "      <th>nc1.0</th>\n",
              "      <th>nc2.5</th>\n",
              "      <th>cnt</th>\n",
              "      <th>fire alarm</th>\n",
              "    </tr>\n",
              "  </thead>\n",
              "  <tbody>\n",
              "    <tr>\n",
              "      <th>unnamed: 0</th>\n",
              "      <td>1.000000</td>\n",
              "      <td>0.551987</td>\n",
              "      <td>0.425636</td>\n",
              "      <td>-0.498121</td>\n",
              "      <td>0.248813</td>\n",
              "      <td>0.160665</td>\n",
              "      <td>-0.232854</td>\n",
              "      <td>0.083094</td>\n",
              "      <td>-0.580829</td>\n",
              "      <td>0.151785</td>\n",
              "      <td>0.128487</td>\n",
              "      <td>0.162053</td>\n",
              "      <td>0.126418</td>\n",
              "      <td>0.100300</td>\n",
              "      <td>-0.053262</td>\n",
              "      <td>-0.361351</td>\n",
              "    </tr>\n",
              "    <tr>\n",
              "      <th>utc</th>\n",
              "      <td>0.551987</td>\n",
              "      <td>1.000000</td>\n",
              "      <td>-0.164174</td>\n",
              "      <td>-0.391907</td>\n",
              "      <td>0.180731</td>\n",
              "      <td>0.132100</td>\n",
              "      <td>-0.151088</td>\n",
              "      <td>0.166555</td>\n",
              "      <td>-0.434375</td>\n",
              "      <td>0.123168</td>\n",
              "      <td>0.105304</td>\n",
              "      <td>0.130288</td>\n",
              "      <td>0.103695</td>\n",
              "      <td>0.083234</td>\n",
              "      <td>-0.251595</td>\n",
              "      <td>-0.389404</td>\n",
              "    </tr>\n",
              "    <tr>\n",
              "      <th>temperature[c]</th>\n",
              "      <td>0.425636</td>\n",
              "      <td>-0.164174</td>\n",
              "      <td>1.000000</td>\n",
              "      <td>-0.243986</td>\n",
              "      <td>0.082442</td>\n",
              "      <td>0.079265</td>\n",
              "      <td>-0.135540</td>\n",
              "      <td>-0.037343</td>\n",
              "      <td>-0.251203</td>\n",
              "      <td>0.037330</td>\n",
              "      <td>0.032084</td>\n",
              "      <td>0.039291</td>\n",
              "      <td>0.031608</td>\n",
              "      <td>0.025526</td>\n",
              "      <td>-0.089850</td>\n",
              "      <td>-0.163902</td>\n",
              "    </tr>\n",
              "    <tr>\n",
              "      <th>humidity[%]</th>\n",
              "      <td>-0.498121</td>\n",
              "      <td>-0.391907</td>\n",
              "      <td>-0.243986</td>\n",
              "      <td>1.000000</td>\n",
              "      <td>-0.488878</td>\n",
              "      <td>-0.369095</td>\n",
              "      <td>0.247199</td>\n",
              "      <td>0.068782</td>\n",
              "      <td>0.694614</td>\n",
              "      <td>-0.236538</td>\n",
              "      <td>-0.178882</td>\n",
              "      <td>-0.277389</td>\n",
              "      <td>-0.174224</td>\n",
              "      <td>-0.118502</td>\n",
              "      <td>0.251965</td>\n",
              "      <td>0.399846</td>\n",
              "    </tr>\n",
              "    <tr>\n",
              "      <th>tvoc[ppb]</th>\n",
              "      <td>0.248813</td>\n",
              "      <td>0.180731</td>\n",
              "      <td>0.082442</td>\n",
              "      <td>-0.488878</td>\n",
              "      <td>1.000000</td>\n",
              "      <td>0.606118</td>\n",
              "      <td>-0.653053</td>\n",
              "      <td>-0.673715</td>\n",
              "      <td>-0.220004</td>\n",
              "      <td>0.597366</td>\n",
              "      <td>0.477424</td>\n",
              "      <td>0.670657</td>\n",
              "      <td>0.467386</td>\n",
              "      <td>0.344721</td>\n",
              "      <td>-0.057703</td>\n",
              "      <td>-0.214743</td>\n",
              "    </tr>\n",
              "    <tr>\n",
              "      <th>eco2[ppm]</th>\n",
              "      <td>0.160665</td>\n",
              "      <td>0.132100</td>\n",
              "      <td>0.079265</td>\n",
              "      <td>-0.369095</td>\n",
              "      <td>0.606118</td>\n",
              "      <td>1.000000</td>\n",
              "      <td>-0.682785</td>\n",
              "      <td>-0.506695</td>\n",
              "      <td>-0.326043</td>\n",
              "      <td>0.665482</td>\n",
              "      <td>0.572691</td>\n",
              "      <td>0.699604</td>\n",
              "      <td>0.564252</td>\n",
              "      <td>0.456323</td>\n",
              "      <td>-0.106681</td>\n",
              "      <td>-0.097006</td>\n",
              "    </tr>\n",
              "    <tr>\n",
              "      <th>raw h2</th>\n",
              "      <td>-0.232854</td>\n",
              "      <td>-0.151088</td>\n",
              "      <td>-0.135540</td>\n",
              "      <td>0.247199</td>\n",
              "      <td>-0.653053</td>\n",
              "      <td>-0.682785</td>\n",
              "      <td>1.000000</td>\n",
              "      <td>0.631495</td>\n",
              "      <td>0.303090</td>\n",
              "      <td>-0.530714</td>\n",
              "      <td>-0.431079</td>\n",
              "      <td>-0.587769</td>\n",
              "      <td>-0.422626</td>\n",
              "      <td>-0.318518</td>\n",
              "      <td>-0.031036</td>\n",
              "      <td>0.107007</td>\n",
              "    </tr>\n",
              "    <tr>\n",
              "      <th>raw ethanol</th>\n",
              "      <td>0.083094</td>\n",
              "      <td>0.166555</td>\n",
              "      <td>-0.037343</td>\n",
              "      <td>0.068782</td>\n",
              "      <td>-0.673715</td>\n",
              "      <td>-0.506695</td>\n",
              "      <td>0.631495</td>\n",
              "      <td>1.000000</td>\n",
              "      <td>-0.075926</td>\n",
              "      <td>-0.480698</td>\n",
              "      <td>-0.393192</td>\n",
              "      <td>-0.529186</td>\n",
              "      <td>-0.385720</td>\n",
              "      <td>-0.293351</td>\n",
              "      <td>-0.511995</td>\n",
              "      <td>-0.340652</td>\n",
              "    </tr>\n",
              "    <tr>\n",
              "      <th>pressure[hpa]</th>\n",
              "      <td>-0.580829</td>\n",
              "      <td>-0.434375</td>\n",
              "      <td>-0.251203</td>\n",
              "      <td>0.694614</td>\n",
              "      <td>-0.220004</td>\n",
              "      <td>-0.326043</td>\n",
              "      <td>0.303090</td>\n",
              "      <td>-0.075926</td>\n",
              "      <td>1.000000</td>\n",
              "      <td>-0.258938</td>\n",
              "      <td>-0.243071</td>\n",
              "      <td>-0.248657</td>\n",
              "      <td>-0.241148</td>\n",
              "      <td>-0.213390</td>\n",
              "      <td>0.186290</td>\n",
              "      <td>0.249797</td>\n",
              "    </tr>\n",
              "    <tr>\n",
              "      <th>pm1.0</th>\n",
              "      <td>0.151785</td>\n",
              "      <td>0.123168</td>\n",
              "      <td>0.037330</td>\n",
              "      <td>-0.236538</td>\n",
              "      <td>0.597366</td>\n",
              "      <td>0.665482</td>\n",
              "      <td>-0.530714</td>\n",
              "      <td>-0.480698</td>\n",
              "      <td>-0.258938</td>\n",
              "      <td>1.000000</td>\n",
              "      <td>0.956118</td>\n",
              "      <td>0.940045</td>\n",
              "      <td>0.949860</td>\n",
              "      <td>0.854901</td>\n",
              "      <td>-0.093700</td>\n",
              "      <td>-0.110552</td>\n",
              "    </tr>\n",
              "    <tr>\n",
              "      <th>pm2.5</th>\n",
              "      <td>0.128487</td>\n",
              "      <td>0.105304</td>\n",
              "      <td>0.032084</td>\n",
              "      <td>-0.178882</td>\n",
              "      <td>0.477424</td>\n",
              "      <td>0.572691</td>\n",
              "      <td>-0.431079</td>\n",
              "      <td>-0.393192</td>\n",
              "      <td>-0.243071</td>\n",
              "      <td>0.956118</td>\n",
              "      <td>1.000000</td>\n",
              "      <td>0.798873</td>\n",
              "      <td>0.999787</td>\n",
              "      <td>0.969382</td>\n",
              "      <td>-0.083869</td>\n",
              "      <td>-0.084916</td>\n",
              "    </tr>\n",
              "    <tr>\n",
              "      <th>nc0.5</th>\n",
              "      <td>0.162053</td>\n",
              "      <td>0.130288</td>\n",
              "      <td>0.039291</td>\n",
              "      <td>-0.277389</td>\n",
              "      <td>0.670657</td>\n",
              "      <td>0.699604</td>\n",
              "      <td>-0.587769</td>\n",
              "      <td>-0.529186</td>\n",
              "      <td>-0.248657</td>\n",
              "      <td>0.940045</td>\n",
              "      <td>0.798873</td>\n",
              "      <td>1.000000</td>\n",
              "      <td>0.786274</td>\n",
              "      <td>0.626711</td>\n",
              "      <td>-0.094741</td>\n",
              "      <td>-0.128118</td>\n",
              "    </tr>\n",
              "    <tr>\n",
              "      <th>nc1.0</th>\n",
              "      <td>0.126418</td>\n",
              "      <td>0.103695</td>\n",
              "      <td>0.031608</td>\n",
              "      <td>-0.174224</td>\n",
              "      <td>0.467386</td>\n",
              "      <td>0.564252</td>\n",
              "      <td>-0.422626</td>\n",
              "      <td>-0.385720</td>\n",
              "      <td>-0.241148</td>\n",
              "      <td>0.949860</td>\n",
              "      <td>0.999787</td>\n",
              "      <td>0.786274</td>\n",
              "      <td>1.000000</td>\n",
              "      <td>0.974249</td>\n",
              "      <td>-0.082898</td>\n",
              "      <td>-0.082828</td>\n",
              "    </tr>\n",
              "    <tr>\n",
              "      <th>nc2.5</th>\n",
              "      <td>0.100300</td>\n",
              "      <td>0.083234</td>\n",
              "      <td>0.025526</td>\n",
              "      <td>-0.118502</td>\n",
              "      <td>0.344721</td>\n",
              "      <td>0.456323</td>\n",
              "      <td>-0.318518</td>\n",
              "      <td>-0.293351</td>\n",
              "      <td>-0.213390</td>\n",
              "      <td>0.854901</td>\n",
              "      <td>0.969382</td>\n",
              "      <td>0.626711</td>\n",
              "      <td>0.974249</td>\n",
              "      <td>1.000000</td>\n",
              "      <td>-0.069977</td>\n",
              "      <td>-0.057707</td>\n",
              "    </tr>\n",
              "    <tr>\n",
              "      <th>cnt</th>\n",
              "      <td>-0.053262</td>\n",
              "      <td>-0.251595</td>\n",
              "      <td>-0.089850</td>\n",
              "      <td>0.251965</td>\n",
              "      <td>-0.057703</td>\n",
              "      <td>-0.106681</td>\n",
              "      <td>-0.031036</td>\n",
              "      <td>-0.511995</td>\n",
              "      <td>0.186290</td>\n",
              "      <td>-0.093700</td>\n",
              "      <td>-0.083869</td>\n",
              "      <td>-0.094741</td>\n",
              "      <td>-0.082898</td>\n",
              "      <td>-0.069977</td>\n",
              "      <td>1.000000</td>\n",
              "      <td>0.673762</td>\n",
              "    </tr>\n",
              "    <tr>\n",
              "      <th>fire alarm</th>\n",
              "      <td>-0.361351</td>\n",
              "      <td>-0.389404</td>\n",
              "      <td>-0.163902</td>\n",
              "      <td>0.399846</td>\n",
              "      <td>-0.214743</td>\n",
              "      <td>-0.097006</td>\n",
              "      <td>0.107007</td>\n",
              "      <td>-0.340652</td>\n",
              "      <td>0.249797</td>\n",
              "      <td>-0.110552</td>\n",
              "      <td>-0.084916</td>\n",
              "      <td>-0.128118</td>\n",
              "      <td>-0.082828</td>\n",
              "      <td>-0.057707</td>\n",
              "      <td>0.673762</td>\n",
              "      <td>1.000000</td>\n",
              "    </tr>\n",
              "  </tbody>\n",
              "</table>\n",
              "</div>\n",
              "      <button class=\"colab-df-convert\" onclick=\"convertToInteractive('df-b5e70617-15c4-482e-96fb-4f983f42c31f')\"\n",
              "              title=\"Convert this dataframe to an interactive table.\"\n",
              "              style=\"display:none;\">\n",
              "        \n",
              "  <svg xmlns=\"http://www.w3.org/2000/svg\" height=\"24px\"viewBox=\"0 0 24 24\"\n",
              "       width=\"24px\">\n",
              "    <path d=\"M0 0h24v24H0V0z\" fill=\"none\"/>\n",
              "    <path d=\"M18.56 5.44l.94 2.06.94-2.06 2.06-.94-2.06-.94-.94-2.06-.94 2.06-2.06.94zm-11 1L8.5 8.5l.94-2.06 2.06-.94-2.06-.94L8.5 2.5l-.94 2.06-2.06.94zm10 10l.94 2.06.94-2.06 2.06-.94-2.06-.94-.94-2.06-.94 2.06-2.06.94z\"/><path d=\"M17.41 7.96l-1.37-1.37c-.4-.4-.92-.59-1.43-.59-.52 0-1.04.2-1.43.59L10.3 9.45l-7.72 7.72c-.78.78-.78 2.05 0 2.83L4 21.41c.39.39.9.59 1.41.59.51 0 1.02-.2 1.41-.59l7.78-7.78 2.81-2.81c.8-.78.8-2.07 0-2.86zM5.41 20L4 18.59l7.72-7.72 1.47 1.35L5.41 20z\"/>\n",
              "  </svg>\n",
              "      </button>\n",
              "      \n",
              "  <style>\n",
              "    .colab-df-container {\n",
              "      display:flex;\n",
              "      flex-wrap:wrap;\n",
              "      gap: 12px;\n",
              "    }\n",
              "\n",
              "    .colab-df-convert {\n",
              "      background-color: #E8F0FE;\n",
              "      border: none;\n",
              "      border-radius: 50%;\n",
              "      cursor: pointer;\n",
              "      display: none;\n",
              "      fill: #1967D2;\n",
              "      height: 32px;\n",
              "      padding: 0 0 0 0;\n",
              "      width: 32px;\n",
              "    }\n",
              "\n",
              "    .colab-df-convert:hover {\n",
              "      background-color: #E2EBFA;\n",
              "      box-shadow: 0px 1px 2px rgba(60, 64, 67, 0.3), 0px 1px 3px 1px rgba(60, 64, 67, 0.15);\n",
              "      fill: #174EA6;\n",
              "    }\n",
              "\n",
              "    [theme=dark] .colab-df-convert {\n",
              "      background-color: #3B4455;\n",
              "      fill: #D2E3FC;\n",
              "    }\n",
              "\n",
              "    [theme=dark] .colab-df-convert:hover {\n",
              "      background-color: #434B5C;\n",
              "      box-shadow: 0px 1px 3px 1px rgba(0, 0, 0, 0.15);\n",
              "      filter: drop-shadow(0px 1px 2px rgba(0, 0, 0, 0.3));\n",
              "      fill: #FFFFFF;\n",
              "    }\n",
              "  </style>\n",
              "\n",
              "      <script>\n",
              "        const buttonEl =\n",
              "          document.querySelector('#df-b5e70617-15c4-482e-96fb-4f983f42c31f button.colab-df-convert');\n",
              "        buttonEl.style.display =\n",
              "          google.colab.kernel.accessAllowed ? 'block' : 'none';\n",
              "\n",
              "        async function convertToInteractive(key) {\n",
              "          const element = document.querySelector('#df-b5e70617-15c4-482e-96fb-4f983f42c31f');\n",
              "          const dataTable =\n",
              "            await google.colab.kernel.invokeFunction('convertToInteractive',\n",
              "                                                     [key], {});\n",
              "          if (!dataTable) return;\n",
              "\n",
              "          const docLinkHtml = 'Like what you see? Visit the ' +\n",
              "            '<a target=\"_blank\" href=https://colab.research.google.com/notebooks/data_table.ipynb>data table notebook</a>'\n",
              "            + ' to learn more about interactive tables.';\n",
              "          element.innerHTML = '';\n",
              "          dataTable['output_type'] = 'display_data';\n",
              "          await google.colab.output.renderOutput(dataTable, element);\n",
              "          const docLink = document.createElement('div');\n",
              "          docLink.innerHTML = docLinkHtml;\n",
              "          element.appendChild(docLink);\n",
              "        }\n",
              "      </script>\n",
              "    </div>\n",
              "  </div>\n",
              "  "
            ]
          },
          "metadata": {},
          "execution_count": 10
        }
      ]
    },
    {
      "cell_type": "markdown",
      "source": [
        "The dataset is a little bit messy, let's select some set of columns to do an initial column selection for correlation."
      ],
      "metadata": {
        "id": "6XRkyGUOD4dx"
      }
    },
    {
      "cell_type": "code",
      "source": [
        "df_temp = df.loc[:, 'temperature[c]':'pressure[hpa]']\n",
        "fig, ax = plt.subplots(figsize=(12, 9))\n",
        "sns.heatmap(df_temp.corr(), annot=True, cmap='Reds');"
      ],
      "metadata": {
        "colab": {
          "base_uri": "https://localhost:8080/",
          "height": 544
        },
        "id": "C88AK2IGEQQ6",
        "outputId": "1e0f61fb-2e68-4481-e6e7-4dc19f762957"
      },
      "execution_count": null,
      "outputs": [
        {
          "output_type": "display_data",
          "data": {
            "text/plain": [
              "<Figure size 864x648 with 2 Axes>"
            ],
            "image/png": "[encoded data removed]"
          },
          "metadata": {}
        }
      ]
    },
    {
      "cell_type": "markdown",
      "source": [
        "a lot of data is correlated, it might be difficult to use a machine learning approach, deep learning might be useful here since its more robust.\n"
      ],
      "metadata": {
        "id": "VGoUhTQlKkRa"
      }
    },
    {
      "cell_type": "code",
      "source": [
        "plt.figure(figsize=(20, 12))\n",
        "# df_temp.iloc[:, 0]\n",
        "\n",
        "for i in range(1, 8):\n",
        "  col = df_temp.iloc[:, i - 1]\n",
        "  plt.subplot(3, 3, i)\n",
        "  sns.kdeplot(col);"
      ],
      "metadata": {
        "colab": {
          "base_uri": "https://localhost:8080/",
          "height": 577
        },
        "id": "QqYd2VScIAH-",
        "outputId": "041b8795-0ea9-4fd3-f7ca-9d507df7abef"
      },
      "execution_count": null,
      "outputs": [
        {
          "output_type": "display_data",
          "data": {
            "text/plain": [
              "<Figure size 1440x864 with 7 Axes>"
            ],
            "image/png": "[encoded data removed]"
          },
          "metadata": {}
        }
      ]
    },
    {
      "cell_type": "markdown",
      "source": [
        "there exist outliers in the: {pressure, eco2, tvoc} columns"
      ],
      "metadata": {
        "id": "IzMlxo8aJw0U"
      }
    },
    {
      "cell_type": "markdown",
      "source": [
        "# prepping data for a tf model\n"
      ],
      "metadata": {
        "id": "jl3VU_lpLNHp"
      }
    },
    {
      "cell_type": "code",
      "source": [
        "# fetch labels\n",
        "y = df['fire alarm']\n",
        "y"
      ],
      "metadata": {
        "colab": {
          "base_uri": "https://localhost:8080/"
        },
        "id": "9xrFOznkLRdh",
        "outputId": "f1c4bb13-3988-4a2d-90f0-6c1ceb6f67c5"
      },
      "execution_count": null,
      "outputs": [
        {
          "output_type": "execute_result",
          "data": {
            "text/plain": [
              "0        0\n",
              "1        0\n",
              "2        0\n",
              "3        0\n",
              "4        0\n",
              "        ..\n",
              "62625    0\n",
              "62626    0\n",
              "62627    0\n",
              "62628    0\n",
              "62629    0\n",
              "Name: fire alarm, Length: 62630, dtype: int64"
            ]
          },
          "metadata": {},
          "execution_count": 13
        }
      ]
    },
    {
      "cell_type": "markdown",
      "source": [
        "`Index(['unnamed: 0', 'utc', 'temperature[c]', 'humidity[%]', 'tvoc[ppb]',\n",
        "       'eco2[ppm]', 'raw h2', 'raw ethanol', 'pressure[hpa]', 'pm1.0', 'pm2.5',\n",
        "       'nc0.5', 'nc1.0', 'nc2.5', 'cnt', 'fire alarm'],\n",
        "      dtype='object')`"
      ],
      "metadata": {
        "id": "0Cij8cKUMDYW"
      }
    },
    {
      "cell_type": "code",
      "source": [
        "# drop some unneeded columns that creates noise\n",
        "\n",
        "X = df.drop(['unnamed: 0', 'utc', 'cnt', 'fire alarm'], axis=1)\n",
        "X"
      ],
      "metadata": {
        "colab": {
          "base_uri": "https://localhost:8080/",
          "height": 485
        },
        "id": "dEZqOGkcLdnJ",
        "outputId": "bb4945bb-9f41-4701-a7e1-3f4d2737129f"
      },
      "execution_count": null,
      "outputs": [
        {
          "output_type": "execute_result",
          "data": {
            "text/plain": [
              "       temperature[c]  humidity[%]  tvoc[ppb]  eco2[ppm]  raw h2  raw ethanol  \\\n",
              "0              20.000        57.36          0        400   12306        18520   \n",
              "1              20.015        56.67          0        400   12345        18651   \n",
              "2              20.029        55.96          0        400   12374        18764   \n",
              "3              20.044        55.28          0        400   12390        18849   \n",
              "4              20.059        54.69          0        400   12403        18921   \n",
              "...               ...          ...        ...        ...     ...          ...   \n",
              "62625          18.438        15.79        625        400   13723        20569   \n",
              "62626          18.653        15.87        612        400   13731        20588   \n",
              "62627          18.867        15.84        627        400   13725        20582   \n",
              "62628          19.083        16.04        638        400   13712        20566   \n",
              "62629          19.299        16.52        643        400   13696        20543   \n",
              "\n",
              "       pressure[hpa]  pm1.0  pm2.5  nc0.5  nc1.0  nc2.5  \n",
              "0            939.735   0.00   0.00   0.00  0.000  0.000  \n",
              "1            939.744   0.00   0.00   0.00  0.000  0.000  \n",
              "2            939.738   0.00   0.00   0.00  0.000  0.000  \n",
              "3            939.736   0.00   0.00   0.00  0.000  0.000  \n",
              "4            939.744   0.00   0.00   0.00  0.000  0.000  \n",
              "...              ...    ...    ...    ...    ...    ...  \n",
              "62625        936.670   0.63   0.65   4.32  0.673  0.015  \n",
              "62626        936.678   0.61   0.63   4.18  0.652  0.015  \n",
              "62627        936.687   0.57   0.60   3.95  0.617  0.014  \n",
              "62628        936.680   0.57   0.59   3.92  0.611  0.014  \n",
              "62629        936.676   0.57   0.59   3.90  0.607  0.014  \n",
              "\n",
              "[62630 rows x 12 columns]"
            ],
            "text/html": [
              "\n",
              "  <div id=\"df-aca82102-82ea-45d2-9d80-1440bf5dd95f\">\n",
              "    <div class=\"colab-df-container\">\n",
              "      <div>\n",
              "<style scoped>\n",
              "    .dataframe tbody tr th:only-of-type {\n",
              "        vertical-align: middle;\n",
              "    }\n",
              "\n",
              "    .dataframe tbody tr th {\n",
              "        vertical-align: top;\n",
              "    }\n",
              "\n",
              "    .dataframe thead th {\n",
              "        text-align: right;\n",
              "    }\n",
              "</style>\n",
              "<table border=\"1\" class=\"dataframe\">\n",
              "  <thead>\n",
              "    <tr style=\"text-align: right;\">\n",
              "      <th></th>\n",
              "      <th>temperature[c]</th>\n",
              "      <th>humidity[%]</th>\n",
              "      <th>tvoc[ppb]</th>\n",
              "      <th>eco2[ppm]</th>\n",
              "      <th>raw h2</th>\n",
              "      <th>raw ethanol</th>\n",
              "      <th>pressure[hpa]</th>\n",
              "      <th>pm1.0</th>\n",
              "      <th>pm2.5</th>\n",
              "      <th>nc0.5</th>\n",
              "      <th>nc1.0</th>\n",
              "      <th>nc2.5</th>\n",
              "    </tr>\n",
              "  </thead>\n",
              "  <tbody>\n",
              "    <tr>\n",
              "      <th>0</th>\n",
              "      <td>20.000</td>\n",
              "      <td>57.36</td>\n",
              "      <td>0</td>\n",
              "      <td>400</td>\n",
              "      <td>12306</td>\n",
              "      <td>18520</td>\n",
              "      <td>939.735</td>\n",
              "      <td>0.00</td>\n",
              "      <td>0.00</td>\n",
              "      <td>0.00</td>\n",
              "      <td>0.000</td>\n",
              "      <td>0.000</td>\n",
              "    </tr>\n",
              "    <tr>\n",
              "      <th>1</th>\n",
              "      <td>20.015</td>\n",
              "      <td>56.67</td>\n",
              "      <td>0</td>\n",
              "      <td>400</td>\n",
              "      <td>12345</td>\n",
              "      <td>18651</td>\n",
              "      <td>939.744</td>\n",
              "      <td>0.00</td>\n",
              "      <td>0.00</td>\n",
              "      <td>0.00</td>\n",
              "      <td>0.000</td>\n",
              "      <td>0.000</td>\n",
              "    </tr>\n",
              "    <tr>\n",
              "      <th>2</th>\n",
              "      <td>20.029</td>\n",
              "      <td>55.96</td>\n",
              "      <td>0</td>\n",
              "      <td>400</td>\n",
              "      <td>12374</td>\n",
              "      <td>18764</td>\n",
              "      <td>939.738</td>\n",
              "      <td>0.00</td>\n",
              "      <td>0.00</td>\n",
              "      <td>0.00</td>\n",
              "      <td>0.000</td>\n",
              "      <td>0.000</td>\n",
              "    </tr>\n",
              "    <tr>\n",
              "      <th>3</th>\n",
              "      <td>20.044</td>\n",
              "      <td>55.28</td>\n",
              "      <td>0</td>\n",
              "      <td>400</td>\n",
              "      <td>12390</td>\n",
              "      <td>18849</td>\n",
              "      <td>939.736</td>\n",
              "      <td>0.00</td>\n",
              "      <td>0.00</td>\n",
              "      <td>0.00</td>\n",
              "      <td>0.000</td>\n",
              "      <td>0.000</td>\n",
              "    </tr>\n",
              "    <tr>\n",
              "      <th>4</th>\n",
              "      <td>20.059</td>\n",
              "      <td>54.69</td>\n",
              "      <td>0</td>\n",
              "      <td>400</td>\n",
              "      <td>12403</td>\n",
              "      <td>18921</td>\n",
              "      <td>939.744</td>\n",
              "      <td>0.00</td>\n",
              "      <td>0.00</td>\n",
              "      <td>0.00</td>\n",
              "      <td>0.000</td>\n",
              "      <td>0.000</td>\n",
              "    </tr>\n",
              "    <tr>\n",
              "      <th>...</th>\n",
              "      <td>...</td>\n",
              "      <td>...</td>\n",
              "      <td>...</td>\n",
              "      <td>...</td>\n",
              "      <td>...</td>\n",
              "      <td>...</td>\n",
              "      <td>...</td>\n",
              "      <td>...</td>\n",
              "      <td>...</td>\n",
              "      <td>...</td>\n",
              "      <td>...</td>\n",
              "      <td>...</td>\n",
              "    </tr>\n",
              "    <tr>\n",
              "      <th>62625</th>\n",
              "      <td>18.438</td>\n",
              "      <td>15.79</td>\n",
              "      <td>625</td>\n",
              "      <td>400</td>\n",
              "      <td>13723</td>\n",
              "      <td>20569</td>\n",
              "      <td>936.670</td>\n",
              "      <td>0.63</td>\n",
              "      <td>0.65</td>\n",
              "      <td>4.32</td>\n",
              "      <td>0.673</td>\n",
              "      <td>0.015</td>\n",
              "    </tr>\n",
              "    <tr>\n",
              "      <th>62626</th>\n",
              "      <td>18.653</td>\n",
              "      <td>15.87</td>\n",
              "      <td>612</td>\n",
              "      <td>400</td>\n",
              "      <td>13731</td>\n",
              "      <td>20588</td>\n",
              "      <td>936.678</td>\n",
              "      <td>0.61</td>\n",
              "      <td>0.63</td>\n",
              "      <td>4.18</td>\n",
              "      <td>0.652</td>\n",
              "      <td>0.015</td>\n",
              "    </tr>\n",
              "    <tr>\n",
              "      <th>62627</th>\n",
              "      <td>18.867</td>\n",
              "      <td>15.84</td>\n",
              "      <td>627</td>\n",
              "      <td>400</td>\n",
              "      <td>13725</td>\n",
              "      <td>20582</td>\n",
              "      <td>936.687</td>\n",
              "      <td>0.57</td>\n",
              "      <td>0.60</td>\n",
              "      <td>3.95</td>\n",
              "      <td>0.617</td>\n",
              "      <td>0.014</td>\n",
              "    </tr>\n",
              "    <tr>\n",
              "      <th>62628</th>\n",
              "      <td>19.083</td>\n",
              "      <td>16.04</td>\n",
              "      <td>638</td>\n",
              "      <td>400</td>\n",
              "      <td>13712</td>\n",
              "      <td>20566</td>\n",
              "      <td>936.680</td>\n",
              "      <td>0.57</td>\n",
              "      <td>0.59</td>\n",
              "      <td>3.92</td>\n",
              "      <td>0.611</td>\n",
              "      <td>0.014</td>\n",
              "    </tr>\n",
              "    <tr>\n",
              "      <th>62629</th>\n",
              "      <td>19.299</td>\n",
              "      <td>16.52</td>\n",
              "      <td>643</td>\n",
              "      <td>400</td>\n",
              "      <td>13696</td>\n",
              "      <td>20543</td>\n",
              "      <td>936.676</td>\n",
              "      <td>0.57</td>\n",
              "      <td>0.59</td>\n",
              "      <td>3.90</td>\n",
              "      <td>0.607</td>\n",
              "      <td>0.014</td>\n",
              "    </tr>\n",
              "  </tbody>\n",
              "</table>\n",
              "<p>62630 rows × 12 columns</p>\n",
              "</div>\n",
              "      <button class=\"colab-df-convert\" onclick=\"convertToInteractive('df-aca82102-82ea-45d2-9d80-1440bf5dd95f')\"\n",
              "              title=\"Convert this dataframe to an interactive table.\"\n",
              "              style=\"display:none;\">\n",
              "        \n",
              "  <svg xmlns=\"http://www.w3.org/2000/svg\" height=\"24px\"viewBox=\"0 0 24 24\"\n",
              "       width=\"24px\">\n",
              "    <path d=\"M0 0h24v24H0V0z\" fill=\"none\"/>\n",
              "    <path d=\"M18.56 5.44l.94 2.06.94-2.06 2.06-.94-2.06-.94-.94-2.06-.94 2.06-2.06.94zm-11 1L8.5 8.5l.94-2.06 2.06-.94-2.06-.94L8.5 2.5l-.94 2.06-2.06.94zm10 10l.94 2.06.94-2.06 2.06-.94-2.06-.94-.94-2.06-.94 2.06-2.06.94z\"/><path d=\"M17.41 7.96l-1.37-1.37c-.4-.4-.92-.59-1.43-.59-.52 0-1.04.2-1.43.59L10.3 9.45l-7.72 7.72c-.78.78-.78 2.05 0 2.83L4 21.41c.39.39.9.59 1.41.59.51 0 1.02-.2 1.41-.59l7.78-7.78 2.81-2.81c.8-.78.8-2.07 0-2.86zM5.41 20L4 18.59l7.72-7.72 1.47 1.35L5.41 20z\"/>\n",
              "  </svg>\n",
              "      </button>\n",
              "      \n",
              "  <style>\n",
              "    .colab-df-container {\n",
              "      display:flex;\n",
              "      flex-wrap:wrap;\n",
              "      gap: 12px;\n",
              "    }\n",
              "\n",
              "    .colab-df-convert {\n",
              "      background-color: #E8F0FE;\n",
              "      border: none;\n",
              "      border-radius: 50%;\n",
              "      cursor: pointer;\n",
              "      display: none;\n",
              "      fill: #1967D2;\n",
              "      height: 32px;\n",
              "      padding: 0 0 0 0;\n",
              "      width: 32px;\n",
              "    }\n",
              "\n",
              "    .colab-df-convert:hover {\n",
              "      background-color: #E2EBFA;\n",
              "      box-shadow: 0px 1px 2px rgba(60, 64, 67, 0.3), 0px 1px 3px 1px rgba(60, 64, 67, 0.15);\n",
              "      fill: #174EA6;\n",
              "    }\n",
              "\n",
              "    [theme=dark] .colab-df-convert {\n",
              "      background-color: #3B4455;\n",
              "      fill: #D2E3FC;\n",
              "    }\n",
              "\n",
              "    [theme=dark] .colab-df-convert:hover {\n",
              "      background-color: #434B5C;\n",
              "      box-shadow: 0px 1px 3px 1px rgba(0, 0, 0, 0.15);\n",
              "      filter: drop-shadow(0px 1px 2px rgba(0, 0, 0, 0.3));\n",
              "      fill: #FFFFFF;\n",
              "    }\n",
              "  </style>\n",
              "\n",
              "      <script>\n",
              "        const buttonEl =\n",
              "          document.querySelector('#df-aca82102-82ea-45d2-9d80-1440bf5dd95f button.colab-df-convert');\n",
              "        buttonEl.style.display =\n",
              "          google.colab.kernel.accessAllowed ? 'block' : 'none';\n",
              "\n",
              "        async function convertToInteractive(key) {\n",
              "          const element = document.querySelector('#df-aca82102-82ea-45d2-9d80-1440bf5dd95f');\n",
              "          const dataTable =\n",
              "            await google.colab.kernel.invokeFunction('convertToInteractive',\n",
              "                                                     [key], {});\n",
              "          if (!dataTable) return;\n",
              "\n",
              "          const docLinkHtml = 'Like what you see? Visit the ' +\n",
              "            '<a target=\"_blank\" href=https://colab.research.google.com/notebooks/data_table.ipynb>data table notebook</a>'\n",
              "            + ' to learn more about interactive tables.';\n",
              "          element.innerHTML = '';\n",
              "          dataTable['output_type'] = 'display_data';\n",
              "          await google.colab.output.renderOutput(dataTable, element);\n",
              "          const docLink = document.createElement('div');\n",
              "          docLink.innerHTML = docLinkHtml;\n",
              "          element.appendChild(docLink);\n",
              "        }\n",
              "      </script>\n",
              "    </div>\n",
              "  </div>\n",
              "  "
            ]
          },
          "metadata": {},
          "execution_count": 14
        }
      ]
    },
    {
      "cell_type": "code",
      "source": [
        "len(X.columns), len(df.columns)"
      ],
      "metadata": {
        "colab": {
          "base_uri": "https://localhost:8080/"
        },
        "id": "-ScJswDUMSAS",
        "outputId": "06aa0a93-2ec3-48ce-b4af-aeb9386cae35"
      },
      "execution_count": null,
      "outputs": [
        {
          "output_type": "execute_result",
          "data": {
            "text/plain": [
              "(12, 16)"
            ]
          },
          "metadata": {},
          "execution_count": 15
        }
      ]
    },
    {
      "cell_type": "code",
      "source": [
        "# Split data into training and testing\n",
        "from sklearn.model_selection import train_test_split\n",
        "x_train, x_test, y_train, y_test = train_test_split(X, y, test_size=.2, random_state=21)"
      ],
      "metadata": {
        "id": "O6BvkU2QMV2V"
      },
      "execution_count": null,
      "outputs": []
    },
    {
      "cell_type": "code",
      "source": [
        "x_train"
      ],
      "metadata": {
        "colab": {
          "base_uri": "https://localhost:8080/",
          "height": 485
        },
        "id": "ClrEJB71M40Q",
        "outputId": "737b4821-391e-4646-ec82-a03458c4f0a0"
      },
      "execution_count": null,
      "outputs": [
        {
          "output_type": "execute_result",
          "data": {
            "text/plain": [
              "       temperature[c]  humidity[%]  tvoc[ppb]  eco2[ppm]  raw h2  raw ethanol  \\\n",
              "53197          25.810        47.89        131        418   12784        20591   \n",
              "7031           -5.233        50.81        226        400   13138        20032   \n",
              "40608          26.830        47.99       1159        420   12879        19438   \n",
              "57195          26.595        45.37         28        402   12833        20748   \n",
              "26837          18.960        48.26         65        400   13124        20002   \n",
              "...               ...          ...        ...        ...     ...          ...   \n",
              "16432          12.697        53.35       1134        400   12889        19448   \n",
              "8964           -5.214        52.62        377        400   13047        19875   \n",
              "5944           -8.732        53.20         86        400   13227        20177   \n",
              "5327           -9.170        54.28         18        400   13255        20214   \n",
              "15305          12.424        50.37       1090        416   12878        19458   \n",
              "\n",
              "       pressure[hpa]  pm1.0  pm2.5  nc0.5  nc1.0  nc2.5  \n",
              "53197        937.336   1.83   1.90  12.57  1.961  0.044  \n",
              "7031         939.546   0.45   0.47   3.12  0.487  0.011  \n",
              "40608        938.805   1.62   1.68  11.16  1.740  0.039  \n",
              "57195        937.540   2.26   2.35  15.55  2.425  0.055  \n",
              "26837        939.592   0.61   0.64   4.23  0.659  0.015  \n",
              "...              ...    ...    ...    ...    ...    ...  \n",
              "16432        938.738   1.46   1.51  10.04  1.565  0.035  \n",
              "8964         939.270   0.42   0.44   2.90  0.452  0.010  \n",
              "5944         939.625   1.97   2.05  13.55  2.113  0.048  \n",
              "5327         939.712   2.22   2.31  15.29  2.384  0.054  \n",
              "15305        938.819   1.97   2.04  13.54  2.112  0.048  \n",
              "\n",
              "[50104 rows x 12 columns]"
            ],
            "text/html": [
              "\n",
              "  <div id=\"df-9e151284-372b-441c-99a4-9ec8e98b675c\">\n",
              "    <div class=\"colab-df-container\">\n",
              "      <div>\n",
              "<style scoped>\n",
              "    .dataframe tbody tr th:only-of-type {\n",
              "        vertical-align: middle;\n",
              "    }\n",
              "\n",
              "    .dataframe tbody tr th {\n",
              "        vertical-align: top;\n",
              "    }\n",
              "\n",
              "    .dataframe thead th {\n",
              "        text-align: right;\n",
              "    }\n",
              "</style>\n",
              "<table border=\"1\" class=\"dataframe\">\n",
              "  <thead>\n",
              "    <tr style=\"text-align: right;\">\n",
              "      <th></th>\n",
              "      <th>temperature[c]</th>\n",
              "      <th>humidity[%]</th>\n",
              "      <th>tvoc[ppb]</th>\n",
              "      <th>eco2[ppm]</th>\n",
              "      <th>raw h2</th>\n",
              "      <th>raw ethanol</th>\n",
              "      <th>pressure[hpa]</th>\n",
              "      <th>pm1.0</th>\n",
              "      <th>pm2.5</th>\n",
              "      <th>nc0.5</th>\n",
              "      <th>nc1.0</th>\n",
              "      <th>nc2.5</th>\n",
              "    </tr>\n",
              "  </thead>\n",
              "  <tbody>\n",
              "    <tr>\n",
              "      <th>53197</th>\n",
              "      <td>25.810</td>\n",
              "      <td>47.89</td>\n",
              "      <td>131</td>\n",
              "      <td>418</td>\n",
              "      <td>12784</td>\n",
              "      <td>20591</td>\n",
              "      <td>937.336</td>\n",
              "      <td>1.83</td>\n",
              "      <td>1.90</td>\n",
              "      <td>12.57</td>\n",
              "      <td>1.961</td>\n",
              "      <td>0.044</td>\n",
              "    </tr>\n",
              "    <tr>\n",
              "      <th>7031</th>\n",
              "      <td>-5.233</td>\n",
              "      <td>50.81</td>\n",
              "      <td>226</td>\n",
              "      <td>400</td>\n",
              "      <td>13138</td>\n",
              "      <td>20032</td>\n",
              "      <td>939.546</td>\n",
              "      <td>0.45</td>\n",
              "      <td>0.47</td>\n",
              "      <td>3.12</td>\n",
              "      <td>0.487</td>\n",
              "      <td>0.011</td>\n",
              "    </tr>\n",
              "    <tr>\n",
              "      <th>40608</th>\n",
              "      <td>26.830</td>\n",
              "      <td>47.99</td>\n",
              "      <td>1159</td>\n",
              "      <td>420</td>\n",
              "      <td>12879</td>\n",
              "      <td>19438</td>\n",
              "      <td>938.805</td>\n",
              "      <td>1.62</td>\n",
              "      <td>1.68</td>\n",
              "      <td>11.16</td>\n",
              "      <td>1.740</td>\n",
              "      <td>0.039</td>\n",
              "    </tr>\n",
              "    <tr>\n",
              "      <th>57195</th>\n",
              "      <td>26.595</td>\n",
              "      <td>45.37</td>\n",
              "      <td>28</td>\n",
              "      <td>402</td>\n",
              "      <td>12833</td>\n",
              "      <td>20748</td>\n",
              "      <td>937.540</td>\n",
              "      <td>2.26</td>\n",
              "      <td>2.35</td>\n",
              "      <td>15.55</td>\n",
              "      <td>2.425</td>\n",
              "      <td>0.055</td>\n",
              "    </tr>\n",
              "    <tr>\n",
              "      <th>26837</th>\n",
              "      <td>18.960</td>\n",
              "      <td>48.26</td>\n",
              "      <td>65</td>\n",
              "      <td>400</td>\n",
              "      <td>13124</td>\n",
              "      <td>20002</td>\n",
              "      <td>939.592</td>\n",
              "      <td>0.61</td>\n",
              "      <td>0.64</td>\n",
              "      <td>4.23</td>\n",
              "      <td>0.659</td>\n",
              "      <td>0.015</td>\n",
              "    </tr>\n",
              "    <tr>\n",
              "      <th>...</th>\n",
              "      <td>...</td>\n",
              "      <td>...</td>\n",
              "      <td>...</td>\n",
              "      <td>...</td>\n",
              "      <td>...</td>\n",
              "      <td>...</td>\n",
              "      <td>...</td>\n",
              "      <td>...</td>\n",
              "      <td>...</td>\n",
              "      <td>...</td>\n",
              "      <td>...</td>\n",
              "      <td>...</td>\n",
              "    </tr>\n",
              "    <tr>\n",
              "      <th>16432</th>\n",
              "      <td>12.697</td>\n",
              "      <td>53.35</td>\n",
              "      <td>1134</td>\n",
              "      <td>400</td>\n",
              "      <td>12889</td>\n",
              "      <td>19448</td>\n",
              "      <td>938.738</td>\n",
              "      <td>1.46</td>\n",
              "      <td>1.51</td>\n",
              "      <td>10.04</td>\n",
              "      <td>1.565</td>\n",
              "      <td>0.035</td>\n",
              "    </tr>\n",
              "    <tr>\n",
              "      <th>8964</th>\n",
              "      <td>-5.214</td>\n",
              "      <td>52.62</td>\n",
              "      <td>377</td>\n",
              "      <td>400</td>\n",
              "      <td>13047</td>\n",
              "      <td>19875</td>\n",
              "      <td>939.270</td>\n",
              "      <td>0.42</td>\n",
              "      <td>0.44</td>\n",
              "      <td>2.90</td>\n",
              "      <td>0.452</td>\n",
              "      <td>0.010</td>\n",
              "    </tr>\n",
              "    <tr>\n",
              "      <th>5944</th>\n",
              "      <td>-8.732</td>\n",
              "      <td>53.20</td>\n",
              "      <td>86</td>\n",
              "      <td>400</td>\n",
              "      <td>13227</td>\n",
              "      <td>20177</td>\n",
              "      <td>939.625</td>\n",
              "      <td>1.97</td>\n",
              "      <td>2.05</td>\n",
              "      <td>13.55</td>\n",
              "      <td>2.113</td>\n",
              "      <td>0.048</td>\n",
              "    </tr>\n",
              "    <tr>\n",
              "      <th>5327</th>\n",
              "      <td>-9.170</td>\n",
              "      <td>54.28</td>\n",
              "      <td>18</td>\n",
              "      <td>400</td>\n",
              "      <td>13255</td>\n",
              "      <td>20214</td>\n",
              "      <td>939.712</td>\n",
              "      <td>2.22</td>\n",
              "      <td>2.31</td>\n",
              "      <td>15.29</td>\n",
              "      <td>2.384</td>\n",
              "      <td>0.054</td>\n",
              "    </tr>\n",
              "    <tr>\n",
              "      <th>15305</th>\n",
              "      <td>12.424</td>\n",
              "      <td>50.37</td>\n",
              "      <td>1090</td>\n",
              "      <td>416</td>\n",
              "      <td>12878</td>\n",
              "      <td>19458</td>\n",
              "      <td>938.819</td>\n",
              "      <td>1.97</td>\n",
              "      <td>2.04</td>\n",
              "      <td>13.54</td>\n",
              "      <td>2.112</td>\n",
              "      <td>0.048</td>\n",
              "    </tr>\n",
              "  </tbody>\n",
              "</table>\n",
              "<p>50104 rows × 12 columns</p>\n",
              "</div>\n",
              "      <button class=\"colab-df-convert\" onclick=\"convertToInteractive('df-9e151284-372b-441c-99a4-9ec8e98b675c')\"\n",
              "              title=\"Convert this dataframe to an interactive table.\"\n",
              "              style=\"display:none;\">\n",
              "        \n",
              "  <svg xmlns=\"http://www.w3.org/2000/svg\" height=\"24px\"viewBox=\"0 0 24 24\"\n",
              "       width=\"24px\">\n",
              "    <path d=\"M0 0h24v24H0V0z\" fill=\"none\"/>\n",
              "    <path d=\"M18.56 5.44l.94 2.06.94-2.06 2.06-.94-2.06-.94-.94-2.06-.94 2.06-2.06.94zm-11 1L8.5 8.5l.94-2.06 2.06-.94-2.06-.94L8.5 2.5l-.94 2.06-2.06.94zm10 10l.94 2.06.94-2.06 2.06-.94-2.06-.94-.94-2.06-.94 2.06-2.06.94z\"/><path d=\"M17.41 7.96l-1.37-1.37c-.4-.4-.92-.59-1.43-.59-.52 0-1.04.2-1.43.59L10.3 9.45l-7.72 7.72c-.78.78-.78 2.05 0 2.83L4 21.41c.39.39.9.59 1.41.59.51 0 1.02-.2 1.41-.59l7.78-7.78 2.81-2.81c.8-.78.8-2.07 0-2.86zM5.41 20L4 18.59l7.72-7.72 1.47 1.35L5.41 20z\"/>\n",
              "  </svg>\n",
              "      </button>\n",
              "      \n",
              "  <style>\n",
              "    .colab-df-container {\n",
              "      display:flex;\n",
              "      flex-wrap:wrap;\n",
              "      gap: 12px;\n",
              "    }\n",
              "\n",
              "    .colab-df-convert {\n",
              "      background-color: #E8F0FE;\n",
              "      border: none;\n",
              "      border-radius: 50%;\n",
              "      cursor: pointer;\n",
              "      display: none;\n",
              "      fill: #1967D2;\n",
              "      height: 32px;\n",
              "      padding: 0 0 0 0;\n",
              "      width: 32px;\n",
              "    }\n",
              "\n",
              "    .colab-df-convert:hover {\n",
              "      background-color: #E2EBFA;\n",
              "      box-shadow: 0px 1px 2px rgba(60, 64, 67, 0.3), 0px 1px 3px 1px rgba(60, 64, 67, 0.15);\n",
              "      fill: #174EA6;\n",
              "    }\n",
              "\n",
              "    [theme=dark] .colab-df-convert {\n",
              "      background-color: #3B4455;\n",
              "      fill: #D2E3FC;\n",
              "    }\n",
              "\n",
              "    [theme=dark] .colab-df-convert:hover {\n",
              "      background-color: #434B5C;\n",
              "      box-shadow: 0px 1px 3px 1px rgba(0, 0, 0, 0.15);\n",
              "      filter: drop-shadow(0px 1px 2px rgba(0, 0, 0, 0.3));\n",
              "      fill: #FFFFFF;\n",
              "    }\n",
              "  </style>\n",
              "\n",
              "      <script>\n",
              "        const buttonEl =\n",
              "          document.querySelector('#df-9e151284-372b-441c-99a4-9ec8e98b675c button.colab-df-convert');\n",
              "        buttonEl.style.display =\n",
              "          google.colab.kernel.accessAllowed ? 'block' : 'none';\n",
              "\n",
              "        async function convertToInteractive(key) {\n",
              "          const element = document.querySelector('#df-9e151284-372b-441c-99a4-9ec8e98b675c');\n",
              "          const dataTable =\n",
              "            await google.colab.kernel.invokeFunction('convertToInteractive',\n",
              "                                                     [key], {});\n",
              "          if (!dataTable) return;\n",
              "\n",
              "          const docLinkHtml = 'Like what you see? Visit the ' +\n",
              "            '<a target=\"_blank\" href=https://colab.research.google.com/notebooks/data_table.ipynb>data table notebook</a>'\n",
              "            + ' to learn more about interactive tables.';\n",
              "          element.innerHTML = '';\n",
              "          dataTable['output_type'] = 'display_data';\n",
              "          await google.colab.output.renderOutput(dataTable, element);\n",
              "          const docLink = document.createElement('div');\n",
              "          docLink.innerHTML = docLinkHtml;\n",
              "          element.appendChild(docLink);\n",
              "        }\n",
              "      </script>\n",
              "    </div>\n",
              "  </div>\n",
              "  "
            ]
          },
          "metadata": {},
          "execution_count": 17
        }
      ]
    },
    {
      "cell_type": "code",
      "source": [
        "y_train"
      ],
      "metadata": {
        "colab": {
          "base_uri": "https://localhost:8080/"
        },
        "id": "tTWD6rilM5w7",
        "outputId": "bd479c6a-e56b-49ed-d41a-c3ca191901fa"
      },
      "execution_count": null,
      "outputs": [
        {
          "output_type": "execute_result",
          "data": {
            "text/plain": [
              "53197    0\n",
              "7031     1\n",
              "40608    1\n",
              "57195    0\n",
              "26837    0\n",
              "        ..\n",
              "16432    1\n",
              "8964     1\n",
              "5944     1\n",
              "5327     1\n",
              "15305    1\n",
              "Name: fire alarm, Length: 50104, dtype: int64"
            ]
          },
          "metadata": {},
          "execution_count": 18
        }
      ]
    },
    {
      "cell_type": "code",
      "source": [],
      "metadata": {
        "colab": {
          "base_uri": "https://localhost:8080/"
        },
        "id": "qSDTJvkMzljs",
        "outputId": "bd6be219-0903-4cef-a2c2-ccb6060362c0"
      },
      "execution_count": null,
      "outputs": [
        {
          "output_type": "execute_result",
          "data": {
            "text/plain": [
              "0.7147533131087338"
            ]
          },
          "metadata": {},
          "execution_count": 29
        }
      ]
    },
    {
      "cell_type": "code",
      "source": [
        "model_baseline = tf.keras.Sequential([\n",
        "    tf.keras.layers.Input(shape=(12, )),\n",
        "    tf.keras.layers.Dense(64, activation = 'relu'),\n",
        "    tf.keras.layers.Dense(128, activation = 'relu'),\n",
        "    tf.keras.layers.Dense(64, activation = 'relu'),\n",
        "    tf.keras.layers.Dense(1, activation = 'sigmoid')\n",
        "])\n",
        "\n",
        "model_baseline.compile(loss='binary_crossentropy',\n",
        "                       optimizer='adam',\n",
        "                       metrics=['accuracy'])\n",
        "\n",
        "history_baseline = model_baseline.fit(x_train, y_train, epochs=10)\n",
        "print('model_baseline evaluation:\\n')\n",
        "acc_baseline = model_baseline.evaluate(x_test, y_test)"
      ],
      "metadata": {
        "colab": {
          "base_uri": "https://localhost:8080/"
        },
        "id": "bEvyX_TrxO4W",
        "outputId": "908f2640-484b-43b7-e720-ed31912bbe35"
      },
      "execution_count": null,
      "outputs": [
        {
          "output_type": "stream",
          "name": "stdout",
          "text": [
            "Epoch 1/10\n",
            "1566/1566 [==============================] - 8s 3ms/step - loss: 7.8880 - accuracy: 0.8223\n",
            "Epoch 2/10\n",
            "1566/1566 [==============================] - 4s 3ms/step - loss: 2.1575 - accuracy: 0.8754\n",
            "Epoch 3/10\n",
            "1566/1566 [==============================] - 4s 3ms/step - loss: 0.8563 - accuracy: 0.8898\n",
            "Epoch 4/10\n",
            "1566/1566 [==============================] - 4s 3ms/step - loss: 0.4572 - accuracy: 0.9034\n",
            "Epoch 5/10\n",
            "1566/1566 [==============================] - 4s 3ms/step - loss: 0.2773 - accuracy: 0.9150\n",
            "Epoch 6/10\n",
            "1566/1566 [==============================] - 4s 3ms/step - loss: 0.2060 - accuracy: 0.9253\n",
            "Epoch 7/10\n",
            "1566/1566 [==============================] - 4s 3ms/step - loss: 0.2739 - accuracy: 0.9239\n",
            "Epoch 8/10\n",
            "1566/1566 [==============================] - 4s 3ms/step - loss: 0.3357 - accuracy: 0.9290\n",
            "Epoch 9/10\n",
            "1566/1566 [==============================] - 4s 3ms/step - loss: 0.1620 - accuracy: 0.9400\n",
            "Epoch 10/10\n",
            "1566/1566 [==============================] - 4s 3ms/step - loss: 0.1785 - accuracy: 0.9394\n",
            "392/392 [==============================] - 1s 2ms/step - loss: 0.1330 - accuracy: 0.9505\n"
          ]
        }
      ]
    },
    {
      "cell_type": "code",
      "source": [
        "from sklearn.metrics import confusion_matrix, ConfusionMatrixDisplay\n",
        "y_preds = tf.round(model_baseline.predict(x_test))\n",
        "y_preds[: 5]\n"
      ],
      "metadata": {
        "colab": {
          "base_uri": "https://localhost:8080/"
        },
        "id": "cgDMXSgFyMYY",
        "outputId": "2d228629-d1aa-4c40-a478-1f882817effb"
      },
      "execution_count": null,
      "outputs": [
        {
          "output_type": "execute_result",
          "data": {
            "text/plain": [
              "<tf.Tensor: shape=(5, 1), dtype=float32, numpy=\n",
              "array([[1.],\n",
              "       [1.],\n",
              "       [1.],\n",
              "       [1.],\n",
              "       [1.]], dtype=float32)>"
            ]
          },
          "metadata": {},
          "execution_count": 22
        }
      ]
    },
    {
      "cell_type": "code",
      "source": [
        "cm = confusion_matrix(y_true=y_test,\n",
        "                      y_pred=y_preds)\n",
        "ConfusionMatrixDisplay(cm).plot();\n",
        "plt.grid(False);"
      ],
      "metadata": {
        "colab": {
          "base_uri": "https://localhost:8080/",
          "height": 285
        },
        "id": "eIOTvG_ey5wr",
        "outputId": "9a15b69c-55d0-43f3-f682-b0893df6b0dc"
      },
      "execution_count": null,
      "outputs": [
        {
          "output_type": "display_data",
          "data": {
            "text/plain": [
              "<Figure size 432x288 with 2 Axes>"
            ],
            "image/png": "[encoded data removed]"
          },
          "metadata": {}
        }
      ]
    },
    {
      "cell_type": "markdown",
      "source": [
        "there are a lot of false positives and false negatives.\n",
        "\n",
        "let's check the distrubtion of classes"
      ],
      "metadata": {
        "id": "knj3Ib9GScJn"
      }
    },
    {
      "cell_type": "code",
      "source": [
        "# calculate the distrubtion of classes\n",
        "filt = y == 1\n",
        "dist = len(y_train[filt]) / len(y_train)\n",
        "print(f\"{dist:.2f}% of samples are in the 1 class\")"
      ],
      "metadata": {
        "colab": {
          "base_uri": "https://localhost:8080/"
        },
        "id": "vaVVcyfN0j_G",
        "outputId": "dec2483f-d44c-4f0f-af43-ac3cf69bf558"
      },
      "execution_count": null,
      "outputs": [
        {
          "output_type": "stream",
          "name": "stdout",
          "text": [
            "0.71% of samples are in the 1 class\n"
          ]
        }
      ]
    },
    {
      "cell_type": "markdown",
      "source": [
        "let's try to increase the complexity of the model and see how does that effect performance."
      ],
      "metadata": {
        "id": "xDXCB6Uu2HhS"
      }
    },
    {
      "cell_type": "code",
      "source": [
        "model_complex = tf.keras.Sequential([\n",
        "    tf.keras.layers.Input(shape=(12, )),\n",
        "    tf.keras.layers.Dense(64, activation='relu'),\n",
        "    tf.keras.layers.Dense(512, activation='relu'),\n",
        "    tf.keras.layers.Dense(64, activation='relu'),\n",
        "    tf.keras.layers.Dense(1, activation='sigmoid')\n",
        "])\n",
        "\n",
        "model_complex.compile(loss='binary_crossentropy',\n",
        "                 optimizer='adam',\n",
        "                 metrics=['accuracy'])\n",
        "\n",
        "history_complex = model_complex.fit(x_train, y_train, epochs=10)\n",
        "print('model_complex evaluation:\\n')\n",
        "acc_complex = model_complex.evaluate(x_test, y_test)"
      ],
      "metadata": {
        "colab": {
          "base_uri": "https://localhost:8080/"
        },
        "id": "n7iy1MhFNu13",
        "outputId": "b4ff22a6-0093-430f-e49f-e29bf17ece3e"
      },
      "execution_count": null,
      "outputs": [
        {
          "output_type": "stream",
          "name": "stdout",
          "text": [
            "Epoch 1/10\n",
            "1566/1566 [==============================] - 5s 3ms/step - loss: 17.8189 - accuracy: 0.8422\n",
            "Epoch 2/10\n",
            "1566/1566 [==============================] - 4s 3ms/step - loss: 2.1699 - accuracy: 0.8931\n",
            "Epoch 3/10\n",
            "1566/1566 [==============================] - 4s 3ms/step - loss: 0.6850 - accuracy: 0.9106\n",
            "Epoch 4/10\n",
            "1566/1566 [==============================] - 4s 3ms/step - loss: 1.4754 - accuracy: 0.9131\n",
            "Epoch 5/10\n",
            "1566/1566 [==============================] - 4s 3ms/step - loss: 0.3103 - accuracy: 0.9325\n",
            "Epoch 6/10\n",
            "1566/1566 [==============================] - 4s 3ms/step - loss: 0.1709 - accuracy: 0.9423\n",
            "Epoch 7/10\n",
            "1566/1566 [==============================] - 4s 3ms/step - loss: 0.1502 - accuracy: 0.9456\n",
            "Epoch 8/10\n",
            "1566/1566 [==============================] - 4s 3ms/step - loss: 0.1426 - accuracy: 0.9509\n",
            "Epoch 9/10\n",
            "1566/1566 [==============================] - 4s 3ms/step - loss: 0.1242 - accuracy: 0.9578\n",
            "Epoch 10/10\n",
            "1566/1566 [==============================] - 4s 3ms/step - loss: 0.1047 - accuracy: 0.9646\n",
            "model_complex evaluation:\n",
            "\n",
            "392/392 [==============================] - 1s 2ms/step - loss: 0.0724 - accuracy: 0.9760\n"
          ]
        }
      ]
    },
    {
      "cell_type": "code",
      "source": [
        "y_preds = tf.round(model_complex.predict(x_test))\n",
        "y_preds[:5]"
      ],
      "metadata": {
        "colab": {
          "base_uri": "https://localhost:8080/"
        },
        "id": "W9wThCLwSS6G",
        "outputId": "c85fe4c4-56c7-43e9-d168-a73111d12dc6"
      },
      "execution_count": null,
      "outputs": [
        {
          "output_type": "execute_result",
          "data": {
            "text/plain": [
              "<tf.Tensor: shape=(5, 1), dtype=float32, numpy=\n",
              "array([[1.],\n",
              "       [1.],\n",
              "       [1.],\n",
              "       [1.],\n",
              "       [1.]], dtype=float32)>"
            ]
          },
          "metadata": {},
          "execution_count": 68
        }
      ]
    },
    {
      "cell_type": "code",
      "source": [
        "cm = confusion_matrix(y_true=y_test, y_pred=y_preds)\n",
        "ConfusionMatrixDisplay(cm).plot();\n",
        "plt.grid(False);"
      ],
      "metadata": {
        "colab": {
          "base_uri": "https://localhost:8080/",
          "height": 285
        },
        "id": "TeNeUKXuSjrO",
        "outputId": "bf99e250-2ae8-438e-8b92-97a82513b673"
      },
      "execution_count": null,
      "outputs": [
        {
          "output_type": "display_data",
          "data": {
            "text/plain": [
              "<Figure size 432x288 with 2 Axes>"
            ],
            "image/png": "[encoded data removed]"
          },
          "metadata": {}
        }
      ]
    },
    {
      "cell_type": "markdown",
      "source": [
        "increasing the complexity of the model allowed it to learn more patterns therefore it became more accurate and more robust to false positives and negatives but can the model improve further?\n",
        "introducing regularization."
      ],
      "metadata": {
        "id": "Al_cUoTG3Nq7"
      }
    },
    {
      "cell_type": "code",
      "source": [
        "# same as baseline architecture but with regularization.\n",
        "model_L2 = tf.keras.Sequential([\n",
        "    tf.keras.layers.Input(shape=(12, )),\n",
        "    tf.keras.layers.Dense(64, activation = 'relu'),\n",
        "    tf.keras.layers.Dense(128, activation = 'relu', kernel_regularizer='L2'),\n",
        "    tf.keras.layers.Dense(64, activation = 'relu'),\n",
        "    tf.keras.layers.Dense(1, activation = 'sigmoid')\n",
        "])\n",
        "\n",
        "model_L2.compile(loss='binary_crossentropy',\n",
        "                       optimizer='adam',\n",
        "                       metrics=['accuracy'])\n",
        "\n",
        "history_L2 = model_L2.fit(x_train, y_train, epochs=10)\n",
        "print('model_L2 evaluation:\\n')\n",
        "acc_L2 = model_L2.evaluate(x_test, y_test)"
      ],
      "metadata": {
        "colab": {
          "base_uri": "https://localhost:8080/"
        },
        "id": "_x2Xp-MV4Q5R",
        "outputId": "f43e15eb-9e48-4b52-faaa-41915d8e8606"
      },
      "execution_count": null,
      "outputs": [
        {
          "output_type": "stream",
          "name": "stdout",
          "text": [
            "Epoch 1/10\n",
            "1566/1566 [==============================] - 5s 3ms/step - loss: 14.2636 - accuracy: 0.8608\n",
            "Epoch 2/10\n",
            "1566/1566 [==============================] - 4s 3ms/step - loss: 3.0986 - accuracy: 0.9002\n",
            "Epoch 3/10\n",
            "1566/1566 [==============================] - 4s 3ms/step - loss: 1.9278 - accuracy: 0.9087\n",
            "Epoch 4/10\n",
            "1566/1566 [==============================] - 4s 3ms/step - loss: 0.8511 - accuracy: 0.9248\n",
            "Epoch 5/10\n",
            "1566/1566 [==============================] - 4s 3ms/step - loss: 0.4998 - accuracy: 0.9420\n",
            "Epoch 6/10\n",
            "1566/1566 [==============================] - 4s 3ms/step - loss: 0.3757 - accuracy: 0.9506\n",
            "Epoch 7/10\n",
            "1566/1566 [==============================] - 4s 3ms/step - loss: 0.2821 - accuracy: 0.9567\n",
            "Epoch 8/10\n",
            "1566/1566 [==============================] - 5s 3ms/step - loss: 0.2176 - accuracy: 0.9607\n",
            "Epoch 9/10\n",
            "1566/1566 [==============================] - 4s 3ms/step - loss: 0.1560 - accuracy: 0.9675\n",
            "Epoch 10/10\n",
            "1566/1566 [==============================] - 4s 3ms/step - loss: 0.3457 - accuracy: 0.9636\n",
            "model_L2 evaluation:\n",
            "\n",
            "392/392 [==============================] - 1s 2ms/step - loss: 0.2760 - accuracy: 0.9209\n"
          ]
        }
      ]
    },
    {
      "cell_type": "code",
      "source": [
        "y_preds = tf.round(model_L2.predict(x_test))\n",
        "cm = confusion_matrix(y_true=y_test, y_pred=y_preds)\n",
        "ConfusionMatrixDisplay(cm).plot();\n",
        "plt.grid(False);"
      ],
      "metadata": {
        "colab": {
          "base_uri": "https://localhost:8080/",
          "height": 285
        },
        "id": "VWIREOLL4KNm",
        "outputId": "c9b073f9-1dfd-4e95-917c-d4d4e3e5a24c"
      },
      "execution_count": null,
      "outputs": [
        {
          "output_type": "display_data",
          "data": {
            "text/plain": [
              "<Figure size 432x288 with 2 Axes>"
            ],
            "image/png": "[encoded data removed]"
          },
          "metadata": {}
        }
      ]
    },
    {
      "cell_type": "markdown",
      "source": [
        "interesting observation, the model has a lot of false positives maybe its caused to the restrictions of the regularization kernel lets change it to another layer"
      ],
      "metadata": {
        "id": "0hf7zQHl5JM1"
      }
    },
    {
      "cell_type": "code",
      "source": [
        "# same as baseline architecture but with regularization.\n",
        "model_L2 = tf.keras.Sequential([\n",
        "    tf.keras.layers.Input(shape=(12, )),\n",
        "    tf.keras.layers.Dense(64, activation = 'relu'),\n",
        "    tf.keras.layers.Dense(128, activation = 'relu'),\n",
        "    tf.keras.layers.Dense(64, activation = 'relu', kernel_regularizer='L2'),\n",
        "    tf.keras.layers.Dense(1, activation = 'sigmoid')\n",
        "])\n",
        "\n",
        "model_L2.compile(loss='binary_crossentropy',\n",
        "                       optimizer='adam',\n",
        "                       metrics=['accuracy'])\n",
        "\n",
        "history_L2 = model_L2.fit(x_train, y_train, epochs=10)\n",
        "print('model_L2 evaluation:\\n')\n",
        "acc_L2 = model_L2.evaluate(x_test, y_test)"
      ],
      "metadata": {
        "colab": {
          "base_uri": "https://localhost:8080/"
        },
        "id": "0dssMUuz5Vx6",
        "outputId": "8eb81885-531b-44a8-a46a-713f2d61d781"
      },
      "execution_count": null,
      "outputs": [
        {
          "output_type": "stream",
          "name": "stdout",
          "text": [
            "Epoch 1/10\n",
            "1566/1566 [==============================] - 5s 3ms/step - loss: 11.7816 - accuracy: 0.8529\n",
            "Epoch 2/10\n",
            "1566/1566 [==============================] - 5s 3ms/step - loss: 3.6645 - accuracy: 0.8952\n",
            "Epoch 3/10\n",
            "1566/1566 [==============================] - 4s 3ms/step - loss: 1.6569 - accuracy: 0.8996\n",
            "Epoch 4/10\n",
            "1566/1566 [==============================] - 4s 3ms/step - loss: 0.8146 - accuracy: 0.9142\n",
            "Epoch 5/10\n",
            "1566/1566 [==============================] - 4s 3ms/step - loss: 0.4926 - accuracy: 0.9195\n",
            "Epoch 6/10\n",
            "1566/1566 [==============================] - 4s 3ms/step - loss: 0.3751 - accuracy: 0.9279\n",
            "Epoch 7/10\n",
            "1566/1566 [==============================] - 4s 3ms/step - loss: 0.3321 - accuracy: 0.9269\n",
            "Epoch 8/10\n",
            "1566/1566 [==============================] - 4s 3ms/step - loss: 0.2654 - accuracy: 0.9347\n",
            "Epoch 9/10\n",
            "1566/1566 [==============================] - 4s 3ms/step - loss: 0.3212 - accuracy: 0.9312\n",
            "Epoch 10/10\n",
            "1566/1566 [==============================] - 4s 3ms/step - loss: 0.2066 - accuracy: 0.9427\n",
            "model_L2 evaluation:\n",
            "\n",
            "392/392 [==============================] - 1s 2ms/step - loss: 0.1776 - accuracy: 0.9528\n"
          ]
        }
      ]
    },
    {
      "cell_type": "code",
      "source": [
        "y_preds = tf.round(model_L2.predict(x_test))\n",
        "cm = confusion_matrix(y_true=y_test, y_pred=y_preds)\n",
        "ConfusionMatrixDisplay(cm).plot();\n",
        "plt.grid(False);"
      ],
      "metadata": {
        "colab": {
          "base_uri": "https://localhost:8080/",
          "height": 285
        },
        "id": "m086gonL5aJe",
        "outputId": "6bdcbb9e-e2a2-4a2d-e31d-65c3c79a345f"
      },
      "execution_count": null,
      "outputs": [
        {
          "output_type": "display_data",
          "data": {
            "text/plain": [
              "<Figure size 432x288 with 2 Axes>"
            ],
            "image/png": "[encoded data removed]"
          },
          "metadata": {}
        }
      ]
    },
    {
      "cell_type": "markdown",
      "source": [
        "lets try to plot the baseline model and the regularized model CMs but before that let's functionize it."
      ],
      "metadata": {
        "id": "_Qg3Ys9p5bFj"
      }
    },
    {
      "cell_type": "code",
      "source": [
        "def plot_cm(model, x_test):\n",
        "  y_preds = tf.round(model.predict(x_test))\n",
        "  cm = confusion_matrix(y_true=y_test, y_pred=y_preds)\n",
        "  ConfusionMatrixDisplay(cm).plot();\n",
        "  plt.grid(False);\n",
        "\n",
        "plot_cm(model_baseline, x_test)"
      ],
      "metadata": {
        "colab": {
          "base_uri": "https://localhost:8080/",
          "height": 285
        },
        "id": "ncgcMzIH6VKN",
        "outputId": "fa497af0-2a79-4aba-ca22-a522facc018a"
      },
      "execution_count": null,
      "outputs": [
        {
          "output_type": "display_data",
          "data": {
            "text/plain": [
              "<Figure size 432x288 with 2 Axes>"
            ],
            "image/png": "[encoded data removed]"
          },
          "metadata": {}
        }
      ]
    },
    {
      "cell_type": "code",
      "source": [
        "plot_cm(model_baseline, x_test);\n",
        "plt.title('baseline model');\n",
        "# \n",
        "plot_cm(model_L2, x_test);\n",
        "plt.title('model with l2 regularization');"
      ],
      "metadata": {
        "colab": {
          "base_uri": "https://localhost:8080/",
          "height": 585
        },
        "id": "WOCBbnKz6FzA",
        "outputId": "6969559c-7c5e-4944-e937-6b1865b09213"
      },
      "execution_count": null,
      "outputs": [
        {
          "output_type": "display_data",
          "data": {
            "text/plain": [
              "<Figure size 432x288 with 2 Axes>"
            ],
            "image/png": "[encoded data removed]"
          },
          "metadata": {}
        },
        {
          "output_type": "display_data",
          "data": {
            "text/plain": [
              "<Figure size 432x288 with 2 Axes>"
            ],
            "image/png": "[encoded data removed]"
          },
          "metadata": {}
        }
      ]
    },
    {
      "cell_type": "markdown",
      "source": [
        "lets try to increase the model complexity so it can reduce false positives"
      ],
      "metadata": {
        "id": "w7j1-bfI-fYf"
      }
    },
    {
      "cell_type": "code",
      "source": [
        "model_complex_L2 = tf.keras.Sequential([\n",
        "    tf.keras.layers.Input(shape=(12, )),\n",
        "    tf.keras.layers.Dense(64, activation='relu'),\n",
        "    tf.keras.layers.Dense(512, activation='relu'),\n",
        "    tf.keras.layers.Dense(64, activation='relu', kernel_regularizer='L2'),\n",
        "    tf.keras.layers.Dense(1, activation='sigmoid')\n",
        "])\n",
        "\n",
        "model_complex_L2.compile(loss='binary_crossentropy',\n",
        "                 optimizer='adam',\n",
        "                 metrics=['accuracy'])\n",
        "\n",
        "history_complex_L2 = model_complex_L2.fit(x_train, y_train, epochs=10)\n",
        "print('model_complex with L2 regularization evaluation:\\n')\n",
        "acc_complex_L2 = model_complex.evaluate(x_test, y_test)"
      ],
      "metadata": {
        "colab": {
          "base_uri": "https://localhost:8080/"
        },
        "id": "aHL0BWN2-k8P",
        "outputId": "47c57662-9d2c-43c6-9fcf-fdb6a97a41ef"
      },
      "execution_count": null,
      "outputs": [
        {
          "output_type": "stream",
          "name": "stdout",
          "text": [
            "Epoch 1/10\n",
            "1566/1566 [==============================] - 5s 3ms/step - loss: 14.9172 - accuracy: 0.8336\n",
            "Epoch 2/10\n",
            "1566/1566 [==============================] - 4s 3ms/step - loss: 1.8047 - accuracy: 0.8883\n",
            "Epoch 3/10\n",
            "1566/1566 [==============================] - 4s 3ms/step - loss: 1.2504 - accuracy: 0.8971\n",
            "Epoch 4/10\n",
            "1566/1566 [==============================] - 4s 3ms/step - loss: 0.5124 - accuracy: 0.9199\n",
            "Epoch 5/10\n",
            "1566/1566 [==============================] - 4s 3ms/step - loss: 0.3798 - accuracy: 0.9322\n",
            "Epoch 6/10\n",
            "1566/1566 [==============================] - 4s 3ms/step - loss: 0.4277 - accuracy: 0.9252\n",
            "Epoch 7/10\n",
            "1566/1566 [==============================] - 4s 3ms/step - loss: 0.2783 - accuracy: 0.9286\n",
            "Epoch 8/10\n",
            "1566/1566 [==============================] - 4s 3ms/step - loss: 0.2295 - accuracy: 0.9338\n",
            "Epoch 9/10\n",
            "1566/1566 [==============================] - 4s 3ms/step - loss: 0.1838 - accuracy: 0.9418\n",
            "Epoch 10/10\n",
            "1566/1566 [==============================] - 4s 3ms/step - loss: 0.2160 - accuracy: 0.9477\n",
            "model_complex with L2 regularization evaluation:\n",
            "\n",
            "392/392 [==============================] - 1s 2ms/step - loss: 0.3228 - accuracy: 0.9345\n"
          ]
        }
      ]
    },
    {
      "cell_type": "code",
      "source": [
        "plot_cm(model_complex_L2, x_test)"
      ],
      "metadata": {
        "colab": {
          "base_uri": "https://localhost:8080/",
          "height": 285
        },
        "id": "i1MHhZ64-zaF",
        "outputId": "193e54d6-50b2-457d-94cd-b7bb956d548a"
      },
      "execution_count": null,
      "outputs": [
        {
          "output_type": "display_data",
          "data": {
            "text/plain": [
              "<Figure size 432x288 with 2 Axes>"
            ],
            "image/png": "[encoded data removed]"
          },
          "metadata": {}
        }
      ]
    },
    {
      "cell_type": "code",
      "source": [
        "# do more epochs...\n",
        "model_complex_L2 = tf.keras.Sequential([\n",
        "    tf.keras.layers.Input(shape=(12, )),\n",
        "    tf.keras.layers.Dense(64, activation='relu'),\n",
        "    tf.keras.layers.Dense(512, activation='relu'),\n",
        "    tf.keras.layers.Dense(64, activation='relu', kernel_regularizer='L2'),\n",
        "    tf.keras.layers.Dense(1, activation='sigmoid')\n",
        "])\n",
        "\n",
        "model_complex_L2.compile(loss='binary_crossentropy',\n",
        "                 optimizer='adam',\n",
        "                 metrics=['accuracy'])\n",
        "\n",
        "history_complex_L2 = model_complex_L2.fit(x_train, y_train, epochs=20)\n",
        "print('model_complex with L2 regularization evaluation:\\n')\n",
        "acc_complex_L2 = model_complex.evaluate(x_test, y_test)"
      ],
      "metadata": {
        "colab": {
          "base_uri": "https://localhost:8080/"
        },
        "id": "fO9rtftp_L-L",
        "outputId": "b88ab87b-5d6e-4dfd-ffcb-7f14f48b7a32"
      },
      "execution_count": null,
      "outputs": [
        {
          "output_type": "stream",
          "name": "stdout",
          "text": [
            "Epoch 1/20\n",
            "1566/1566 [==============================] - 5s 3ms/step - loss: 14.1407 - accuracy: 0.8268\n",
            "Epoch 2/20\n",
            "1566/1566 [==============================] - 4s 3ms/step - loss: 2.5403 - accuracy: 0.8828\n",
            "Epoch 3/20\n",
            "1566/1566 [==============================] - 4s 3ms/step - loss: 1.1356 - accuracy: 0.8966\n",
            "Epoch 4/20\n",
            "1566/1566 [==============================] - 4s 3ms/step - loss: 1.2699 - accuracy: 0.9077\n",
            "Epoch 5/20\n",
            "1566/1566 [==============================] - 5s 3ms/step - loss: 0.4450 - accuracy: 0.9239\n",
            "Epoch 6/20\n",
            "1566/1566 [==============================] - 4s 3ms/step - loss: 0.3452 - accuracy: 0.9302\n",
            "Epoch 7/20\n",
            "1566/1566 [==============================] - 4s 3ms/step - loss: 0.2896 - accuracy: 0.9275\n",
            "Epoch 8/20\n",
            "1566/1566 [==============================] - 4s 3ms/step - loss: 0.2421 - accuracy: 0.9322\n",
            "Epoch 9/20\n",
            "1566/1566 [==============================] - 5s 3ms/step - loss: 0.1862 - accuracy: 0.9410\n",
            "Epoch 10/20\n",
            "1566/1566 [==============================] - 4s 3ms/step - loss: 0.1524 - accuracy: 0.9478\n",
            "Epoch 11/20\n",
            "1566/1566 [==============================] - 4s 3ms/step - loss: 0.1336 - accuracy: 0.9534\n",
            "Epoch 12/20\n",
            "1566/1566 [==============================] - 4s 3ms/step - loss: 0.2029 - accuracy: 0.9594\n",
            "Epoch 13/20\n",
            "1566/1566 [==============================] - 4s 3ms/step - loss: 0.1199 - accuracy: 0.9644\n",
            "Epoch 14/20\n",
            "1566/1566 [==============================] - 4s 3ms/step - loss: 0.1073 - accuracy: 0.9678\n",
            "Epoch 15/20\n",
            "1566/1566 [==============================] - 4s 3ms/step - loss: 0.0968 - accuracy: 0.9711\n",
            "Epoch 16/20\n",
            "1566/1566 [==============================] - 4s 3ms/step - loss: 0.0839 - accuracy: 0.9734\n",
            "Epoch 17/20\n",
            "1566/1566 [==============================] - 4s 3ms/step - loss: 0.0758 - accuracy: 0.9755\n",
            "Epoch 18/20\n",
            "1566/1566 [==============================] - 4s 3ms/step - loss: 0.0735 - accuracy: 0.9765\n",
            "Epoch 19/20\n",
            "1566/1566 [==============================] - 4s 3ms/step - loss: 0.0823 - accuracy: 0.9741\n",
            "Epoch 20/20\n",
            "1566/1566 [==============================] - 4s 3ms/step - loss: 0.0717 - accuracy: 0.9769\n",
            "model_complex with L2 regularization evaluation:\n",
            "\n",
            "392/392 [==============================] - 1s 2ms/step - loss: 0.3228 - accuracy: 0.9345\n"
          ]
        }
      ]
    },
    {
      "cell_type": "code",
      "source": [
        "plot_cm(model_complex_L2, x_test)"
      ],
      "metadata": {
        "colab": {
          "base_uri": "https://localhost:8080/",
          "height": 285
        },
        "id": "4R8FNhLc_Pkp",
        "outputId": "c76a160d-2282-4637-87c6-a9d6b05a3177"
      },
      "execution_count": null,
      "outputs": [
        {
          "output_type": "display_data",
          "data": {
            "text/plain": [
              "<Figure size 432x288 with 2 Axes>"
            ],
            "image/png": "[encoded data removed]"
          },
          "metadata": {}
        }
      ]
    },
    {
      "cell_type": "markdown",
      "source": [
        "lets compare the best performing models"
      ],
      "metadata": {
        "id": "grRyY7ei_Qww"
      }
    },
    {
      "cell_type": "code",
      "source": [
        "plot_cm(model_complex, x_test)\n",
        "plt.title('complex model')\n",
        "plot_cm(model_complex_L2, x_test)\n",
        "plt.title('complex model with regularization');\n",
        "print('complex model metrics:\\n', acc_complex)\n",
        "print('complex model with regularization metrics:\\n', acc_complex_L2)"
      ],
      "metadata": {
        "colab": {
          "base_uri": "https://localhost:8080/",
          "height": 654
        },
        "id": "wJLjap_z_-H_",
        "outputId": "8b6e1357-2550-4952-c5ed-f0eb37bad3b8"
      },
      "execution_count": null,
      "outputs": [
        {
          "output_type": "stream",
          "name": "stdout",
          "text": [
            "complex model metrics:\n",
            " [0.07236674427986145, 0.9760498404502869]\n",
            "complex model with regularization metrics:\n",
            " [0.32280221581459045, 0.9345361590385437]\n"
          ]
        },
        {
          "output_type": "display_data",
          "data": {
            "text/plain": [
              "<Figure size 432x288 with 2 Axes>"
            ],
            "image/png": "[encoded data removed]"
          },
          "metadata": {}
        },
        {
          "output_type": "display_data",
          "data": {
            "text/plain": [
              "<Figure size 432x288 with 2 Axes>"
            ],
            "image/png": "[encoded data removed]"
          },
          "metadata": {}
        }
      ]
    },
    {
      "cell_type": "code",
      "source": [
        "# add dropout to further reduce variance\n",
        "model_complex_L2 = tf.keras.Sequential([\n",
        "    tf.keras.layers.Input(shape=(12, )),\n",
        "    tf.keras.layers.Dense(64, activation='relu'),\n",
        "    tf.keras.layers.Dense(512, activation='relu'),\n",
        "    tf.keras.layers.Dropout(.5),\n",
        "    tf.keras.layers.Dense(64, activation='relu', kernel_regularizer='L2'),\n",
        "    tf.keras.layers.Dense(1, activation='sigmoid')\n",
        "])\n",
        "\n",
        "model_complex_L2.compile(loss='binary_crossentropy',\n",
        "                 optimizer='adam',\n",
        "                 metrics=['accuracy'])\n",
        "\n",
        "history_complex_L2 = model_complex_L2.fit(x_train, y_train, epochs=20)\n",
        "print('model_complex with L2 regularization evaluation:\\n')\n",
        "acc_complex_L2 = model_complex.evaluate(x_test, y_test)"
      ],
      "metadata": {
        "colab": {
          "base_uri": "https://localhost:8080/"
        },
        "id": "yuNvBarQB-pU",
        "outputId": "30c621e1-ac8e-4c67-d72a-e0b4e090b644"
      },
      "execution_count": null,
      "outputs": [
        {
          "output_type": "stream",
          "name": "stdout",
          "text": [
            "Epoch 1/20\n",
            "1566/1566 [==============================] - 5s 3ms/step - loss: 10.5774 - accuracy: 0.7390\n",
            "Epoch 2/20\n",
            "1566/1566 [==============================] - 4s 3ms/step - loss: 0.8905 - accuracy: 0.8755\n",
            "Epoch 3/20\n",
            "1566/1566 [==============================] - 4s 3ms/step - loss: 0.7446 - accuracy: 0.8868\n",
            "Epoch 4/20\n",
            "1566/1566 [==============================] - 5s 3ms/step - loss: 0.5872 - accuracy: 0.8982\n",
            "Epoch 5/20\n",
            "1566/1566 [==============================] - 5s 3ms/step - loss: 0.5052 - accuracy: 0.9060\n",
            "Epoch 6/20\n",
            "1566/1566 [==============================] - 4s 3ms/step - loss: 0.3283 - accuracy: 0.9207\n",
            "Epoch 7/20\n",
            "1566/1566 [==============================] - 4s 3ms/step - loss: 0.2541 - accuracy: 0.9252\n",
            "Epoch 8/20\n",
            "1566/1566 [==============================] - 5s 3ms/step - loss: 0.2140 - accuracy: 0.9294\n",
            "Epoch 9/20\n",
            "1566/1566 [==============================] - 4s 3ms/step - loss: 0.1990 - accuracy: 0.9327\n",
            "Epoch 10/20\n",
            "1566/1566 [==============================] - 5s 3ms/step - loss: 0.1884 - accuracy: 0.9379\n",
            "Epoch 11/20\n",
            "1566/1566 [==============================] - 4s 3ms/step - loss: 0.1646 - accuracy: 0.9422\n",
            "Epoch 12/20\n",
            "1566/1566 [==============================] - 4s 3ms/step - loss: 0.1504 - accuracy: 0.9464\n",
            "Epoch 13/20\n",
            "1566/1566 [==============================] - 4s 3ms/step - loss: 0.1390 - accuracy: 0.9529\n",
            "Epoch 14/20\n",
            "1566/1566 [==============================] - 4s 3ms/step - loss: 0.1302 - accuracy: 0.9585\n",
            "Epoch 15/20\n",
            "1566/1566 [==============================] - 5s 3ms/step - loss: 0.1321 - accuracy: 0.9666\n",
            "Epoch 16/20\n",
            "1566/1566 [==============================] - 4s 3ms/step - loss: 0.0931 - accuracy: 0.9735\n",
            "Epoch 17/20\n",
            "1566/1566 [==============================] - 4s 3ms/step - loss: 0.0812 - accuracy: 0.9774\n",
            "Epoch 18/20\n",
            "1566/1566 [==============================] - 4s 3ms/step - loss: 0.0814 - accuracy: 0.9779\n",
            "Epoch 19/20\n",
            "1566/1566 [==============================] - 5s 3ms/step - loss: 0.0822 - accuracy: 0.9790\n",
            "Epoch 20/20\n",
            "1566/1566 [==============================] - 5s 3ms/step - loss: 0.0848 - accuracy: 0.9788\n",
            "model_complex with L2 regularization evaluation:\n",
            "\n",
            "392/392 [==============================] - 1s 2ms/step - loss: 0.0724 - accuracy: 0.9760\n"
          ]
        }
      ]
    },
    {
      "cell_type": "code",
      "source": [
        "plot_cm(model_complex_L2, x_test)"
      ],
      "metadata": {
        "colab": {
          "base_uri": "https://localhost:8080/",
          "height": 285
        },
        "id": "kgpqOh0JCRGU",
        "outputId": "022e0047-f518-4f2a-95b8-98d18224b302"
      },
      "execution_count": null,
      "outputs": [
        {
          "output_type": "display_data",
          "data": {
            "text/plain": [
              "<Figure size 432x288 with 2 Axes>"
            ],
            "image/png": "[encoded data removed]"
          },
          "metadata": {}
        }
      ]
    },
    {
      "cell_type": "markdown",
      "source": [
        "the model has signficantly improved and has better metrics, lets compare the baseline model and regularized complex model"
      ],
      "metadata": {
        "id": "JT2GRPXWC5et"
      }
    },
    {
      "cell_type": "code",
      "source": [
        "plot_cm(model_baseline, x_test);\n",
        "plt.title('the baseline model');\n",
        "plot_cm(model_complex_L2, x_test);\n",
        "plt.title('the regularized complex model');\n",
        "print(f'baseline model loss:{acc_baseline[0]:.2f}')\n",
        "print(f'baseline model acc :{acc_baseline[1]:.2f}')\n",
        "print('_________________________________________________')\n",
        "print()\n",
        "print(f'reg cmplx model acc:{acc_complex_L2[0]:.2f}')\n",
        "print(f'reg cmplx model acc:{acc_complex_L2[1]:.2f}')\n",
        "print('_________________________________________________')\n",
        "print()"
      ],
      "metadata": {
        "colab": {
          "base_uri": "https://localhost:8080/",
          "height": 724
        },
        "id": "yH2zWcV3DJdP",
        "outputId": "15bfa5b9-25d1-4132-851f-35dc14fe79f6"
      },
      "execution_count": null,
      "outputs": [
        {
          "output_type": "stream",
          "name": "stdout",
          "text": [
            "baseline model loss:0.13\n",
            "baseline model acc :0.95\n",
            "_________________________________________________\n",
            "\n",
            "reg cmplx model acc:0.07\n",
            "reg cmplx model acc:0.98\n",
            "_________________________________________________\n",
            "\n"
          ]
        },
        {
          "output_type": "display_data",
          "data": {
            "text/plain": [
              "<Figure size 432x288 with 2 Axes>"
            ],
            "image/png": "[encoded data removed]"
          },
          "metadata": {}
        },
        {
          "output_type": "display_data",
          "data": {
            "text/plain": [
              "<Figure size 432x288 with 2 Axes>"
            ],
            "image/png": "[encoded data removed]"
          },
          "metadata": {}
        }
      ]
    }
  ]
}